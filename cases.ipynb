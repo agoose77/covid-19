{
 "cells": [
  {
   "cell_type": "code",
   "execution_count": 1,
   "metadata": {},
   "outputs": [],
   "source": [
    "from io import BytesIO\n",
    "import matplotlib.dates as dates\n",
    "import requests\n",
    "import pandas as pd\n",
    "import re\n",
    "import scipy.optimize\n",
    "import numpy as np\n",
    "from matplotlib import pyplot as plt\n",
    "from openpyxl import load_workbook\n",
    "import ipywidgets as widgets\n",
    "\n",
    "%matplotlib ipympl"
   ]
  },
  {
   "cell_type": "code",
   "execution_count": 2,
   "metadata": {},
   "outputs": [],
   "source": [
    "response = requests.get(\"https://www.arcgis.com/sharing/rest/content/items/e5fd11150d274bebaaf8fe2a7a2bda11/data\")\n",
    "io = BytesIO(response.content)"
   ]
  },
  {
   "cell_type": "code",
   "execution_count": 3,
   "metadata": {},
   "outputs": [],
   "source": [
    "workbook = load_workbook(io, read_only=True)"
   ]
  },
  {
   "cell_type": "code",
   "execution_count": 4,
   "metadata": {},
   "outputs": [
    {
     "data": {
      "text/html": [
       "<div>\n",
       "<style scoped>\n",
       "    .dataframe tbody tr th:only-of-type {\n",
       "        vertical-align: middle;\n",
       "    }\n",
       "\n",
       "    .dataframe tbody tr th {\n",
       "        vertical-align: top;\n",
       "    }\n",
       "\n",
       "    .dataframe thead th {\n",
       "        text-align: right;\n",
       "    }\n",
       "</style>\n",
       "<table border=\"1\" class=\"dataframe\">\n",
       "  <thead>\n",
       "    <tr style=\"text-align: right;\">\n",
       "      <th></th>\n",
       "      <th>DateVal</th>\n",
       "      <th>CMODateCount</th>\n",
       "      <th>CumCases</th>\n",
       "      <th>DailyDeaths</th>\n",
       "      <th>CumDeaths</th>\n",
       "    </tr>\n",
       "  </thead>\n",
       "  <tbody>\n",
       "    <tr>\n",
       "      <th>59</th>\n",
       "      <td>2020-03-30</td>\n",
       "      <td>2619</td>\n",
       "      <td>22141</td>\n",
       "      <td>180.0</td>\n",
       "      <td>1408.0</td>\n",
       "    </tr>\n",
       "    <tr>\n",
       "      <th>60</th>\n",
       "      <td>2020-03-31</td>\n",
       "      <td>3009</td>\n",
       "      <td>25150</td>\n",
       "      <td>381.0</td>\n",
       "      <td>1789.0</td>\n",
       "    </tr>\n",
       "    <tr>\n",
       "      <th>61</th>\n",
       "      <td>2020-04-01</td>\n",
       "      <td>4324</td>\n",
       "      <td>29474</td>\n",
       "      <td>563.0</td>\n",
       "      <td>2352.0</td>\n",
       "    </tr>\n",
       "    <tr>\n",
       "      <th>62</th>\n",
       "      <td>2020-04-02</td>\n",
       "      <td>4244</td>\n",
       "      <td>33718</td>\n",
       "      <td>569.0</td>\n",
       "      <td>2921.0</td>\n",
       "    </tr>\n",
       "    <tr>\n",
       "      <th>63</th>\n",
       "      <td>2020-04-03</td>\n",
       "      <td>4450</td>\n",
       "      <td>38168</td>\n",
       "      <td>684.0</td>\n",
       "      <td>3605.0</td>\n",
       "    </tr>\n",
       "  </tbody>\n",
       "</table>\n",
       "</div>"
      ],
      "text/plain": [
       "      DateVal  CMODateCount  CumCases  DailyDeaths  CumDeaths\n",
       "59 2020-03-30          2619     22141        180.0     1408.0\n",
       "60 2020-03-31          3009     25150        381.0     1789.0\n",
       "61 2020-04-01          4324     29474        563.0     2352.0\n",
       "62 2020-04-02          4244     33718        569.0     2921.0\n",
       "63 2020-04-03          4450     38168        684.0     3605.0"
      ]
     },
     "execution_count": 4,
     "metadata": {},
     "output_type": "execute_result"
    }
   ],
   "source": [
    "header, *rows = workbook.worksheets[0].values\n",
    "df = pd.DataFrame({c: b for c, b in zip(header, zip(*rows))})\n",
    "df.tail()"
   ]
  },
  {
   "cell_type": "code",
   "execution_count": 5,
   "metadata": {},
   "outputs": [
    {
     "data": {
      "text/html": [
       "<div>\n",
       "<style scoped>\n",
       "    .dataframe tbody tr th:only-of-type {\n",
       "        vertical-align: middle;\n",
       "    }\n",
       "\n",
       "    .dataframe tbody tr th {\n",
       "        vertical-align: top;\n",
       "    }\n",
       "\n",
       "    .dataframe thead th {\n",
       "        text-align: right;\n",
       "    }\n",
       "</style>\n",
       "<table border=\"1\" class=\"dataframe\">\n",
       "  <thead>\n",
       "    <tr style=\"text-align: right;\">\n",
       "      <th></th>\n",
       "      <th>date</th>\n",
       "      <th>new cases</th>\n",
       "      <th>cases</th>\n",
       "      <th>DailyDeaths</th>\n",
       "      <th>CumDeaths</th>\n",
       "    </tr>\n",
       "  </thead>\n",
       "  <tbody>\n",
       "    <tr>\n",
       "      <th>59</th>\n",
       "      <td>2020-03-30</td>\n",
       "      <td>2619</td>\n",
       "      <td>22146</td>\n",
       "      <td>180.0</td>\n",
       "      <td>1408.0</td>\n",
       "    </tr>\n",
       "    <tr>\n",
       "      <th>60</th>\n",
       "      <td>2020-03-31</td>\n",
       "      <td>3009</td>\n",
       "      <td>25155</td>\n",
       "      <td>381.0</td>\n",
       "      <td>1789.0</td>\n",
       "    </tr>\n",
       "    <tr>\n",
       "      <th>61</th>\n",
       "      <td>2020-04-01</td>\n",
       "      <td>4324</td>\n",
       "      <td>29479</td>\n",
       "      <td>563.0</td>\n",
       "      <td>2352.0</td>\n",
       "    </tr>\n",
       "    <tr>\n",
       "      <th>62</th>\n",
       "      <td>2020-04-02</td>\n",
       "      <td>4244</td>\n",
       "      <td>33723</td>\n",
       "      <td>569.0</td>\n",
       "      <td>2921.0</td>\n",
       "    </tr>\n",
       "    <tr>\n",
       "      <th>63</th>\n",
       "      <td>2020-04-03</td>\n",
       "      <td>4450</td>\n",
       "      <td>38173</td>\n",
       "      <td>684.0</td>\n",
       "      <td>3605.0</td>\n",
       "    </tr>\n",
       "  </tbody>\n",
       "</table>\n",
       "</div>"
      ],
      "text/plain": [
       "         date  new cases  cases  DailyDeaths  CumDeaths\n",
       "59 2020-03-30       2619  22146        180.0     1408.0\n",
       "60 2020-03-31       3009  25155        381.0     1789.0\n",
       "61 2020-04-01       4324  29479        563.0     2352.0\n",
       "62 2020-04-02       4244  33723        569.0     2921.0\n",
       "63 2020-04-03       4450  38173        684.0     3605.0"
      ]
     },
     "execution_count": 5,
     "metadata": {},
     "output_type": "execute_result"
    }
   ],
   "source": [
    "df = df.rename(columns={'CMODateCount': 'new cases', 'CumCases': 'cases', 'DateVal': 'date'})\n",
    "df['cases'] = df['new cases'].cumsum()\n",
    "df.tail()"
   ]
  },
  {
   "cell_type": "code",
   "execution_count": 6,
   "metadata": {},
   "outputs": [],
   "source": [
    "# df = df.append({'date': pd.to_datetime(pd.to_datetime('today').date()), 'new cases': 530-456, 'cases': 530}, ignore_index=True)\n",
    "# df.tail()"
   ]
  },
  {
   "cell_type": "code",
   "execution_count": 207,
   "metadata": {},
   "outputs": [
    {
     "name": "stderr",
     "output_type": "stream",
     "text": [
      "/home/angus/.pyenv/versions/3.8.1/envs/covid-19/lib/python3.8/site-packages/pandas/plotting/_matplotlib/core.py:320: RuntimeWarning: More than 20 figures have been opened. Figures created through the pyplot interface (`matplotlib.pyplot.figure`) are retained until explicitly closed and may consume too much memory. (To control this warning, see the rcParam `figure.max_open_warning`).\n",
      "  fig = self.plt.figure(figsize=self.figsize)\n"
     ]
    },
    {
     "data": {
      "application/vnd.jupyter.widget-view+json": {
       "model_id": "e2ee0c2bbcf1425da4b488c38b0f2fd5",
       "version_major": 2,
       "version_minor": 0
      },
      "text/plain": [
       "Canvas(toolbar=Toolbar(toolitems=[('Home', 'Reset original view', 'home', 'home'), ('Back', 'Back to previous …"
      ]
     },
     "metadata": {},
     "output_type": "display_data"
    }
   ],
   "source": [
    "df.plot('date', 'cases', kind='scatter', title='UK Cases');"
   ]
  },
  {
   "cell_type": "code",
   "execution_count": 208,
   "metadata": {},
   "outputs": [],
   "source": [
    "def fit_func(x, a, m, c):\n",
    "    return a * np.exp(m*(x + c))"
   ]
  },
  {
   "cell_type": "code",
   "execution_count": 209,
   "metadata": {},
   "outputs": [
    {
     "name": "stderr",
     "output_type": "stream",
     "text": [
      "/home/angus/.pyenv/versions/3.8.1/envs/covid-19/lib/python3.8/site-packages/pandas/core/series.py:679: RuntimeWarning: overflow encountered in exp\n",
      "  result = getattr(ufunc, method)(*inputs, **kwargs)\n"
     ]
    },
    {
     "data": {
      "text/plain": [
       "array([  0.0726233 ,   0.16015072, -11.31173872])"
      ]
     },
     "execution_count": 209,
     "metadata": {},
     "output_type": "execute_result"
    }
   ],
   "source": [
    "prediction_dates = df['date'][:-1]\n",
    "prediction_days = prediction_dates.dt.dayofyear\n",
    "popt, pcov = scipy.optimize.curve_fit(fit_func, prediction_days, df['cases'][:prediction_days.size], p0=(0.3, 0.13, -2))\n",
    "popt"
   ]
  },
  {
   "cell_type": "code",
   "execution_count": 210,
   "metadata": {},
   "outputs": [
    {
     "data": {
      "text/plain": [
       "'Time to double is 4.328092798098075 days'"
      ]
     },
     "execution_count": 210,
     "metadata": {},
     "output_type": "execute_result"
    }
   ],
   "source": [
    "f\"Time to double is {np.log(2)/popt[1]} days\""
   ]
  },
  {
   "cell_type": "code",
   "execution_count": 211,
   "metadata": {},
   "outputs": [],
   "source": [
    "def day_of_year_to_date(doy):\n",
    "    return pd.to_datetime(doy-1, unit='D', origin=pd.Timestamp(\"2020-01-01\"))"
   ]
  },
  {
   "cell_type": "code",
   "execution_count": 212,
   "metadata": {},
   "outputs": [
    {
     "data": {
      "text/plain": [
       "'34890 cases expected on 2020-04-02 00:00:00'"
      ]
     },
     "execution_count": 212,
     "metadata": {},
     "output_type": "execute_result"
    }
   ],
   "source": [
    "doy_next = prediction_days.to_numpy()[-1]+0\n",
    "n_cases_after_prediction = fit_func(doy_next, *popt)\n",
    "f\"{n_cases_after_prediction:.0f} cases expected on {day_of_year_to_date(doy_next)}\""
   ]
  },
  {
   "cell_type": "code",
   "execution_count": 213,
   "metadata": {},
   "outputs": [],
   "source": [
    "plt.plot(prediction_dates, fit_func(prediction_days, *popt), 'g--');"
   ]
  },
  {
   "cell_type": "code",
   "execution_count": 214,
   "metadata": {},
   "outputs": [],
   "source": [
    "def predict(change):\n",
    "    n_days = change['new']\n",
    "    t_projection = prediction_days.to_numpy()[-1] + np.arange(n_days) + 1\n",
    "    dt_projection = pd.to_datetime(t_projection-1, unit='D', origin=pd.Timestamp(\"2020-01-01\"))\n",
    "    line_predict.set_data(dt_projection, fit_func(t_projection, *popt))\n",
    "    print(dt_projection, )\n",
    "    \n",
    "    ax = plt.gca()\n",
    "    ax.relim()\n",
    "    ax.autoscale()"
   ]
  },
  {
   "cell_type": "code",
   "execution_count": 215,
   "metadata": {},
   "outputs": [],
   "source": [
    "line_predict, = plt.plot(df['date'], df['cases'], 'rx--');"
   ]
  },
  {
   "cell_type": "code",
   "execution_count": 216,
   "metadata": {},
   "outputs": [
    {
     "data": {
      "application/vnd.jupyter.widget-view+json": {
       "model_id": "4dd82808a77b4381b38e9bc6ac9cd3b3",
       "version_major": 2,
       "version_minor": 0
      },
      "text/plain": [
       "IntSlider(value=0, description='Days', max=40)"
      ]
     },
     "metadata": {},
     "output_type": "display_data"
    }
   ],
   "source": [
    "n_days = widgets.IntSlider(min=0, max=40, description=\"Days\")\n",
    "n_days.observe(predict, 'value')\n",
    "n_days"
   ]
  },
  {
   "cell_type": "markdown",
   "metadata": {},
   "source": [
    "## Plot cases per day vs cases\n",
    "For exponential growth a simple $\\dot{N}$ vs $N$ plot should give\n",
    "$$\n",
    "\\dot{N} = m N\\,,\n",
    "$$\n",
    "where $m$ is the growth rate.\n",
    "Given that the error on the number of cases is not constant, it follows that larger points are weighted more strongly when fitting with OLS. At the moment this simple model does not consider errors. We use `curve_fit` to fit non-linearly."
   ]
  },
  {
   "cell_type": "code",
   "execution_count": 266,
   "metadata": {},
   "outputs": [
    {
     "name": "stderr",
     "output_type": "stream",
     "text": [
      "/home/angus/.pyenv/versions/3.8.1/envs/covid-19/lib/python3.8/site-packages/pandas/plotting/_matplotlib/core.py:320: RuntimeWarning: More than 20 figures have been opened. Figures created through the pyplot interface (`matplotlib.pyplot.figure`) are retained until explicitly closed and may consume too much memory. (To control this warning, see the rcParam `figure.max_open_warning`).\n",
      "  fig = self.plt.figure(figsize=self.figsize)\n"
     ]
    },
    {
     "data": {
      "application/vnd.jupyter.widget-view+json": {
       "model_id": "e8c57e81b4614c10ab005c4904e3d44c",
       "version_major": 2,
       "version_minor": 0
      },
      "text/plain": [
       "Canvas(toolbar=Toolbar(toolitems=[('Home', 'Reset original view', 'home', 'home'), ('Back', 'Back to previous …"
      ]
     },
     "metadata": {},
     "output_type": "display_data"
    }
   ],
   "source": [
    "def proportional(x, m):\n",
    "    return m*x\n",
    "\n",
    "df_gt_100 = df.loc[df['cases'] > 100]\n",
    "\n",
    "popt_linear_cases, pcov_linear_cases = scipy.optimize.curve_fit(proportional, \n",
    "                                                  df_gt_100['cases'], \n",
    "                                                  df_gt_100['new cases'],\n",
    "                                                )\n",
    "\n",
    "df_gt_100.plot(\"cases\", \"new cases\", kind='scatter')\n",
    "plt.plot(df_gt_100['cases'], proportional(df_gt_100['cases'], *popt_linear_cases));"
   ]
  },
  {
   "cell_type": "markdown",
   "metadata": {},
   "source": [
    "Now let's plot on a log-log scale."
   ]
  },
  {
   "cell_type": "code",
   "execution_count": 267,
   "metadata": {},
   "outputs": [
    {
     "name": "stderr",
     "output_type": "stream",
     "text": [
      "/home/angus/.pyenv/versions/3.8.1/envs/covid-19/lib/python3.8/site-packages/pandas/plotting/_matplotlib/core.py:320: RuntimeWarning: More than 20 figures have been opened. Figures created through the pyplot interface (`matplotlib.pyplot.figure`) are retained until explicitly closed and may consume too much memory. (To control this warning, see the rcParam `figure.max_open_warning`).\n",
      "  fig = self.plt.figure(figsize=self.figsize)\n"
     ]
    },
    {
     "data": {
      "application/vnd.jupyter.widget-view+json": {
       "model_id": "b77571d7a07d48fdb99f55609d978721",
       "version_major": 2,
       "version_minor": 0
      },
      "text/plain": [
       "Canvas(toolbar=Toolbar(toolitems=[('Home', 'Reset original view', 'home', 'home'), ('Back', 'Back to previous …"
      ]
     },
     "metadata": {},
     "output_type": "display_data"
    }
   ],
   "source": [
    "df_gt_100.plot(\"cases\", \"new cases\", logx=True, logy=True, kind='scatter')\n",
    "plt.loglog(df_gt_100['cases'], proportional(df_gt_100['cases'], *popt_linear_cases));"
   ]
  },
  {
   "cell_type": "markdown",
   "metadata": {},
   "source": [
    "This looks more linear, suggestion a relation\n",
    "$$\n",
    "\\log{\\dot{N}} = m\\log{N} + c\\,,\n",
    "$$\n",
    "which transforms to\n",
    "$$\n",
    "\\dot{N} = N^m\\cdot c\\,,\n",
    "$$\n",
    "where $m=1$, $c=0$ for exponential growth. Let's fit the log-log plot with a linear function instead:"
   ]
  },
  {
   "cell_type": "code",
   "execution_count": 268,
   "metadata": {},
   "outputs": [
    {
     "name": "stderr",
     "output_type": "stream",
     "text": [
      "/home/angus/.pyenv/versions/3.8.1/envs/covid-19/lib/python3.8/site-packages/pandas/plotting/_matplotlib/core.py:320: RuntimeWarning: More than 20 figures have been opened. Figures created through the pyplot interface (`matplotlib.pyplot.figure`) are retained until explicitly closed and may consume too much memory. (To control this warning, see the rcParam `figure.max_open_warning`).\n",
      "  fig = self.plt.figure(figsize=self.figsize)\n"
     ]
    },
    {
     "data": {
      "application/vnd.jupyter.widget-view+json": {
       "model_id": "2105e0d1270442ee92f3b787e99f7ede",
       "version_major": 2,
       "version_minor": 0
      },
      "text/plain": [
       "Canvas(toolbar=Toolbar(toolitems=[('Home', 'Reset original view', 'home', 'home'), ('Back', 'Back to previous …"
      ]
     },
     "metadata": {},
     "output_type": "display_data"
    }
   ],
   "source": [
    "popt_loglog_cases, pcov_loglog_cases = scipy.optimize.curve_fit(\n",
    "    linear, \n",
    "    np.log(df_gt_100['cases']), \n",
    "    np.log(df_gt_100['new cases'])\n",
    ")\n",
    "\n",
    "df.plot(\"cases\", \"new cases\", kind='scatter', logx=True, logy=True)\n",
    "plt.loglog(df['cases'], np.exp(linear(np.log(df['cases']), *popt_loglog_cases)));"
   ]
  },
  {
   "cell_type": "markdown",
   "metadata": {},
   "source": [
    "Evidently there is some nonlinearity in the model, given that $m \\neq 1$:"
   ]
  },
  {
   "cell_type": "code",
   "execution_count": 270,
   "metadata": {},
   "outputs": [
    {
     "data": {
      "text/plain": [
       "array([ 0.89515896, -0.90745295])"
      ]
     },
     "execution_count": 270,
     "metadata": {},
     "output_type": "execute_result"
    }
   ],
   "source": [
    "popt_loglog_cases"
   ]
  }
 ],
 "metadata": {
  "kernelspec": {
   "display_name": "Python 3",
   "language": "python",
   "name": "python3"
  },
  "language_info": {
   "codemirror_mode": {
    "name": "ipython",
    "version": 3
   },
   "file_extension": ".py",
   "mimetype": "text/x-python",
   "name": "python",
   "nbconvert_exporter": "python",
   "pygments_lexer": "ipython3",
   "version": "3.8.1"
  },
  "widgets": {
   "application/vnd.jupyter.widget-state+json": {
    "state": {
     "01907ad9ccf04cfeb4975aaf6cf063b1": {
      "model_module": "@jupyter-widgets/base",
      "model_module_version": "1.2.0",
      "model_name": "LayoutModel",
      "state": {}
     },
     "01a99e77fcb5467a856127d5105b5408": {
      "model_module": "jupyter-matplotlib",
      "model_module_version": "^0.7.2",
      "model_name": "MPLCanvasModel",
      "state": {
       "_cursor": "default",
       "_figure_label": "Figure 50",
       "_height": 480,
       "_width": 640,
       "layout": "IPY_MODEL_a4803d262544451383950694deb6495e",
       "toolbar": "IPY_MODEL_ed95b4bd9c934f43beadc29706de8c76",
       "toolbar_position": "left"
      }
     },
     "023a18452a404b1ebd5cb5f80b7443e5": {
      "model_module": "@jupyter-widgets/base",
      "model_module_version": "1.2.0",
      "model_name": "LayoutModel",
      "state": {}
     },
     "02ddc270330d4faf9c00ef63ed93ce85": {
      "model_module": "jupyter-matplotlib",
      "model_module_version": "^0.7.2",
      "model_name": "ToolbarModel",
      "state": {
       "layout": "IPY_MODEL_faad8c74f88943a1aad0c15beebf804a",
       "toolitems": [
        [
         "Home",
         "Reset original view",
         "home",
         "home"
        ],
        [
         "Back",
         "Back to previous view",
         "arrow-left",
         "back"
        ],
        [
         "Forward",
         "Forward to next view",
         "arrow-right",
         "forward"
        ],
        [
         "Pan",
         "Pan axes with left mouse, zoom with right",
         "arrows",
         "pan"
        ],
        [
         "Zoom",
         "Zoom to rectangle",
         "square-o",
         "zoom"
        ],
        [
         "Download",
         "Download plot",
         "floppy-o",
         "save_figure"
        ]
       ]
      }
     },
     "065376716f6b4531a55249ca6da6fc0a": {
      "model_module": "jupyter-matplotlib",
      "model_module_version": "^0.7.2",
      "model_name": "MPLCanvasModel",
      "state": {
       "_cursor": "default",
       "_figure_label": "Figure 14",
       "_height": 480,
       "_image_mode": "diff",
       "_width": 640,
       "layout": "IPY_MODEL_a2dd37f64a944683b0d974aada38da80",
       "toolbar": "IPY_MODEL_e8dee89c66974df7846aab6c97df277d",
       "toolbar_position": "left"
      }
     },
     "0695b3d2a2904be89f4ec177fb8ffad5": {
      "model_module": "jupyter-matplotlib",
      "model_module_version": "^0.7.2",
      "model_name": "MPLCanvasModel",
      "state": {
       "_cursor": "default",
       "_figure_label": "Figure 3",
       "_height": 480,
       "_image_mode": "diff",
       "_width": 640,
       "layout": "IPY_MODEL_408cc88c2ab04322ad5e0b89753ffbed",
       "toolbar": "IPY_MODEL_c889fc24b2234e6db7d0eef8d4244055",
       "toolbar_position": "left"
      }
     },
     "06dccb780c8f411b8be5c5c06a7360cb": {
      "model_module": "jupyter-matplotlib",
      "model_module_version": "^0.7.2",
      "model_name": "MPLCanvasModel",
      "state": {
       "_cursor": "default",
       "_figure_label": "Figure 35",
       "_height": 480,
       "_width": 640,
       "layout": "IPY_MODEL_7467b0d6938b42de9b666538b25f4379",
       "toolbar": "IPY_MODEL_0b3661f56c6e486c8d310901815b79a4",
       "toolbar_position": "left"
      }
     },
     "06edce1350b345629469e1507ea51d3e": {
      "model_module": "@jupyter-widgets/base",
      "model_module_version": "1.2.0",
      "model_name": "LayoutModel",
      "state": {}
     },
     "0846367601d24755b78b4fdab4273dcc": {
      "model_module": "@jupyter-widgets/base",
      "model_module_version": "1.2.0",
      "model_name": "LayoutModel",
      "state": {}
     },
     "09934745e8d245c2b1c5bcf76df28b96": {
      "model_module": "@jupyter-widgets/base",
      "model_module_version": "1.2.0",
      "model_name": "LayoutModel",
      "state": {}
     },
     "0a313edd823b4527b46e9ae45bbed818": {
      "model_module": "jupyter-matplotlib",
      "model_module_version": "^0.7.2",
      "model_name": "ToolbarModel",
      "state": {
       "layout": "IPY_MODEL_1dbf7b1e41904ea582962bee0d99208c",
       "toolitems": [
        [
         "Home",
         "Reset original view",
         "home",
         "home"
        ],
        [
         "Back",
         "Back to previous view",
         "arrow-left",
         "back"
        ],
        [
         "Forward",
         "Forward to next view",
         "arrow-right",
         "forward"
        ],
        [
         "Pan",
         "Pan axes with left mouse, zoom with right",
         "arrows",
         "pan"
        ],
        [
         "Zoom",
         "Zoom to rectangle",
         "square-o",
         "zoom"
        ],
        [
         "Download",
         "Download plot",
         "floppy-o",
         "save_figure"
        ]
       ]
      }
     },
     "0a3656284162467493eebc052d9760d7": {
      "model_module": "@jupyter-widgets/base",
      "model_module_version": "1.2.0",
      "model_name": "LayoutModel",
      "state": {}
     },
     "0adf6d673e814db2ac7eb30b5baa2ad9": {
      "model_module": "@jupyter-widgets/base",
      "model_module_version": "1.2.0",
      "model_name": "LayoutModel",
      "state": {}
     },
     "0b3661f56c6e486c8d310901815b79a4": {
      "model_module": "jupyter-matplotlib",
      "model_module_version": "^0.7.2",
      "model_name": "ToolbarModel",
      "state": {
       "layout": "IPY_MODEL_1be962f540f64bb5bea18415abd71382",
       "toolitems": [
        [
         "Home",
         "Reset original view",
         "home",
         "home"
        ],
        [
         "Back",
         "Back to previous view",
         "arrow-left",
         "back"
        ],
        [
         "Forward",
         "Forward to next view",
         "arrow-right",
         "forward"
        ],
        [
         "Pan",
         "Pan axes with left mouse, zoom with right",
         "arrows",
         "pan"
        ],
        [
         "Zoom",
         "Zoom to rectangle",
         "square-o",
         "zoom"
        ],
        [
         "Download",
         "Download plot",
         "floppy-o",
         "save_figure"
        ]
       ]
      }
     },
     "0c764f720a5048ec93333225d7367722": {
      "model_module": "jupyter-matplotlib",
      "model_module_version": "^0.7.2",
      "model_name": "ToolbarModel",
      "state": {
       "layout": "IPY_MODEL_8eb2d363eed54dfb8823af6ecba1c6c7",
       "toolitems": [
        [
         "Home",
         "Reset original view",
         "home",
         "home"
        ],
        [
         "Back",
         "Back to previous view",
         "arrow-left",
         "back"
        ],
        [
         "Forward",
         "Forward to next view",
         "arrow-right",
         "forward"
        ],
        [
         "Pan",
         "Pan axes with left mouse, zoom with right",
         "arrows",
         "pan"
        ],
        [
         "Zoom",
         "Zoom to rectangle",
         "square-o",
         "zoom"
        ],
        [
         "Download",
         "Download plot",
         "floppy-o",
         "save_figure"
        ]
       ]
      }
     },
     "0d4d3c7273984badac9dc01bf09c8a5a": {
      "model_module": "@jupyter-widgets/base",
      "model_module_version": "1.2.0",
      "model_name": "LayoutModel",
      "state": {}
     },
     "0e935be9eabc469e97c285b74f74718c": {
      "model_module": "@jupyter-widgets/base",
      "model_module_version": "1.2.0",
      "model_name": "LayoutModel",
      "state": {}
     },
     "0e9eadeae947428f9bd7a6fededbd4b0": {
      "model_module": "@jupyter-widgets/base",
      "model_module_version": "1.2.0",
      "model_name": "LayoutModel",
      "state": {}
     },
     "0ed97e37b66f42eb81210b2328ef6696": {
      "model_module": "jupyter-matplotlib",
      "model_module_version": "^0.7.2",
      "model_name": "ToolbarModel",
      "state": {
       "layout": "IPY_MODEL_b8c52d4c410e43aebb9784818d2c0a60",
       "toolitems": [
        [
         "Home",
         "Reset original view",
         "home",
         "home"
        ],
        [
         "Back",
         "Back to previous view",
         "arrow-left",
         "back"
        ],
        [
         "Forward",
         "Forward to next view",
         "arrow-right",
         "forward"
        ],
        [
         "Pan",
         "Pan axes with left mouse, zoom with right",
         "arrows",
         "pan"
        ],
        [
         "Zoom",
         "Zoom to rectangle",
         "square-o",
         "zoom"
        ],
        [
         "Download",
         "Download plot",
         "floppy-o",
         "save_figure"
        ]
       ]
      }
     },
     "10532dd21b154cc2ad66b39b330a30d0": {
      "model_module": "jupyter-matplotlib",
      "model_module_version": "^0.7.2",
      "model_name": "ToolbarModel",
      "state": {
       "layout": "IPY_MODEL_a9bc311082194f1687720143b802663f",
       "toolitems": [
        [
         "Home",
         "Reset original view",
         "home",
         "home"
        ],
        [
         "Back",
         "Back to previous view",
         "arrow-left",
         "back"
        ],
        [
         "Forward",
         "Forward to next view",
         "arrow-right",
         "forward"
        ],
        [
         "Pan",
         "Pan axes with left mouse, zoom with right",
         "arrows",
         "pan"
        ],
        [
         "Zoom",
         "Zoom to rectangle",
         "square-o",
         "zoom"
        ],
        [
         "Download",
         "Download plot",
         "floppy-o",
         "save_figure"
        ]
       ]
      }
     },
     "107db1b178034068b78890877d0a7047": {
      "model_module": "@jupyter-widgets/base",
      "model_module_version": "1.2.0",
      "model_name": "LayoutModel",
      "state": {}
     },
     "119de0a3fe3a4ac4a25ba5894c0d3c60": {
      "model_module": "@jupyter-widgets/base",
      "model_module_version": "1.2.0",
      "model_name": "LayoutModel",
      "state": {}
     },
     "11bc18ad4a6e471685a9791e36ad99d7": {
      "model_module": "jupyter-matplotlib",
      "model_module_version": "^0.7.2",
      "model_name": "ToolbarModel",
      "state": {
       "layout": "IPY_MODEL_5df9b735f10447539b5d0535d6dbed01",
       "toolitems": [
        [
         "Home",
         "Reset original view",
         "home",
         "home"
        ],
        [
         "Back",
         "Back to previous view",
         "arrow-left",
         "back"
        ],
        [
         "Forward",
         "Forward to next view",
         "arrow-right",
         "forward"
        ],
        [
         "Pan",
         "Pan axes with left mouse, zoom with right",
         "arrows",
         "pan"
        ],
        [
         "Zoom",
         "Zoom to rectangle",
         "square-o",
         "zoom"
        ],
        [
         "Download",
         "Download plot",
         "floppy-o",
         "save_figure"
        ]
       ]
      }
     },
     "1220d581d47f4846a03834dc8461f815": {
      "model_module": "@jupyter-widgets/base",
      "model_module_version": "1.2.0",
      "model_name": "LayoutModel",
      "state": {}
     },
     "12f48e73004143b38acf2c1a448418fb": {
      "model_module": "@jupyter-widgets/base",
      "model_module_version": "1.2.0",
      "model_name": "LayoutModel",
      "state": {}
     },
     "13094420008c411ebd6beaf6fcb8ac64": {
      "model_module": "jupyter-matplotlib",
      "model_module_version": "^0.7.2",
      "model_name": "MPLCanvasModel",
      "state": {
       "_cursor": "default",
       "_figure_label": "Figure 49",
       "_height": 480,
       "_width": 640,
       "layout": "IPY_MODEL_416be7fb1155415c9ac3f88024bfb7c8",
       "toolbar": "IPY_MODEL_8bf8eb80942b418aa59dff2ed84012ad",
       "toolbar_position": "left"
      }
     },
     "14256fe98a624a0087a30f3055e30466": {
      "model_module": "@jupyter-widgets/base",
      "model_module_version": "1.2.0",
      "model_name": "LayoutModel",
      "state": {}
     },
     "14c12244d5c241b3ba7164669f9688bd": {
      "model_module": "jupyter-matplotlib",
      "model_module_version": "^0.7.2",
      "model_name": "MPLCanvasModel",
      "state": {
       "_cursor": "default",
       "_figure_label": "Figure 53",
       "_height": 480,
       "_width": 640,
       "layout": "IPY_MODEL_b9ab1a84707643dcb9813c2f3605dd41",
       "toolbar": "IPY_MODEL_58a4545bc42a4bb69535e88b798e680b",
       "toolbar_position": "left"
      }
     },
     "151fec2a6ca04a73871c0ff2f3efe1a6": {
      "model_module": "jupyter-matplotlib",
      "model_module_version": "^0.7.2",
      "model_name": "MPLCanvasModel",
      "state": {
       "_cursor": "default",
       "_figure_label": "Figure 54",
       "_height": 480,
       "_image_mode": "diff",
       "_width": 640,
       "layout": "IPY_MODEL_c3a4795c14024f0485e76ec34bc96b1f",
       "toolbar": "IPY_MODEL_a0232402d0f4467fbd7502c1fd282758",
       "toolbar_position": "left"
      }
     },
     "15d2dd0c8cb247878bb841d8ec80c985": {
      "model_module": "jupyter-matplotlib",
      "model_module_version": "^0.7.2",
      "model_name": "MPLCanvasModel",
      "state": {
       "_cursor": "default",
       "_figure_label": "Figure 64",
       "_height": 480,
       "_width": 640,
       "layout": "IPY_MODEL_994e0b27817d475985b0820373650fc5",
       "toolbar": "IPY_MODEL_8ee98133fe9846ca82e68a945910b580",
       "toolbar_position": "left"
      }
     },
     "1638f03f125345c1a1a33ba21a55b7ad": {
      "model_module": "jupyter-matplotlib",
      "model_module_version": "^0.7.2",
      "model_name": "ToolbarModel",
      "state": {
       "layout": "IPY_MODEL_7484448ad14d429098ecca9664fd2663",
       "toolitems": [
        [
         "Home",
         "Reset original view",
         "home",
         "home"
        ],
        [
         "Back",
         "Back to previous view",
         "arrow-left",
         "back"
        ],
        [
         "Forward",
         "Forward to next view",
         "arrow-right",
         "forward"
        ],
        [
         "Pan",
         "Pan axes with left mouse, zoom with right",
         "arrows",
         "pan"
        ],
        [
         "Zoom",
         "Zoom to rectangle",
         "square-o",
         "zoom"
        ],
        [
         "Download",
         "Download plot",
         "floppy-o",
         "save_figure"
        ]
       ]
      }
     },
     "17fcd7c198ad4517a1ae3fb59c0b52e8": {
      "model_module": "@jupyter-widgets/base",
      "model_module_version": "1.2.0",
      "model_name": "LayoutModel",
      "state": {}
     },
     "180a9d48d46743a4a0cb316f4aa0441b": {
      "model_module": "jupyter-matplotlib",
      "model_module_version": "^0.7.2",
      "model_name": "ToolbarModel",
      "state": {
       "layout": "IPY_MODEL_defa1add41d34207a506cc752cd50507",
       "toolitems": [
        [
         "Home",
         "Reset original view",
         "home",
         "home"
        ],
        [
         "Back",
         "Back to previous view",
         "arrow-left",
         "back"
        ],
        [
         "Forward",
         "Forward to next view",
         "arrow-right",
         "forward"
        ],
        [
         "Pan",
         "Pan axes with left mouse, zoom with right",
         "arrows",
         "pan"
        ],
        [
         "Zoom",
         "Zoom to rectangle",
         "square-o",
         "zoom"
        ],
        [
         "Download",
         "Download plot",
         "floppy-o",
         "save_figure"
        ]
       ]
      }
     },
     "1847f9f1abe54f109a3bd0b322af4e9f": {
      "model_module": "jupyter-matplotlib",
      "model_module_version": "^0.7.2",
      "model_name": "MPLCanvasModel",
      "state": {
       "_cursor": "default",
       "_figure_label": "Figure 77",
       "_height": 480,
       "_image_mode": "diff",
       "_width": 640,
       "layout": "IPY_MODEL_35e1b458c547495ea652d594daf4f8a8",
       "toolbar": "IPY_MODEL_8b423ac4ba9746a8a39a8f984b1b4fa0",
       "toolbar_position": "left"
      }
     },
     "185b1bc1129d4a5d8851ef1146f7f1d2": {
      "model_module": "@jupyter-widgets/base",
      "model_module_version": "1.2.0",
      "model_name": "LayoutModel",
      "state": {}
     },
     "186bcb51ae5b4b7590d888b3e2cbd113": {
      "model_module": "@jupyter-widgets/controls",
      "model_module_version": "1.5.0",
      "model_name": "IntSliderModel",
      "state": {
       "description": "Days",
       "layout": "IPY_MODEL_629dfbf7582c49c7bf06f4b719d8d543",
       "max": 40,
       "style": "IPY_MODEL_790f5b0a4bb3484c90a8147ebb99efb4",
       "value": 4
      }
     },
     "18d3e09f1bf3421393110780dccf473f": {
      "model_module": "jupyter-matplotlib",
      "model_module_version": "^0.7.2",
      "model_name": "ToolbarModel",
      "state": {
       "layout": "IPY_MODEL_df5e2153aabd4131bb29821775aab086",
       "toolitems": [
        [
         "Home",
         "Reset original view",
         "home",
         "home"
        ],
        [
         "Back",
         "Back to previous view",
         "arrow-left",
         "back"
        ],
        [
         "Forward",
         "Forward to next view",
         "arrow-right",
         "forward"
        ],
        [
         "Pan",
         "Pan axes with left mouse, zoom with right",
         "arrows",
         "pan"
        ],
        [
         "Zoom",
         "Zoom to rectangle",
         "square-o",
         "zoom"
        ],
        [
         "Download",
         "Download plot",
         "floppy-o",
         "save_figure"
        ]
       ]
      }
     },
     "18d999b970434cd6b523f67ac8d399a9": {
      "model_module": "@jupyter-widgets/controls",
      "model_module_version": "1.5.0",
      "model_name": "IntSliderModel",
      "state": {
       "description": "Days",
       "layout": "IPY_MODEL_901a3f8079064103801a47514f02a028",
       "max": 40,
       "style": "IPY_MODEL_a0d4ab1f608548e0b82182f83beab476"
      }
     },
     "1ab5e77b989345e287a011353f342e10": {
      "model_module": "@jupyter-widgets/base",
      "model_module_version": "1.2.0",
      "model_name": "LayoutModel",
      "state": {}
     },
     "1bc0ebcd02b84d4a9001c65903b995a4": {
      "model_module": "@jupyter-widgets/base",
      "model_module_version": "1.2.0",
      "model_name": "LayoutModel",
      "state": {}
     },
     "1bdb17a49cd5408295a343d6e4c4bca0": {
      "model_module": "@jupyter-widgets/base",
      "model_module_version": "1.2.0",
      "model_name": "LayoutModel",
      "state": {}
     },
     "1be962f540f64bb5bea18415abd71382": {
      "model_module": "@jupyter-widgets/base",
      "model_module_version": "1.2.0",
      "model_name": "LayoutModel",
      "state": {}
     },
     "1c4734e125ad43018817e86f6f855b5e": {
      "model_module": "jupyter-matplotlib",
      "model_module_version": "^0.7.2",
      "model_name": "ToolbarModel",
      "state": {
       "layout": "IPY_MODEL_ed210e497f544de1a2588c8acf27f7b1",
       "toolitems": [
        [
         "Home",
         "Reset original view",
         "home",
         "home"
        ],
        [
         "Back",
         "Back to previous view",
         "arrow-left",
         "back"
        ],
        [
         "Forward",
         "Forward to next view",
         "arrow-right",
         "forward"
        ],
        [
         "Pan",
         "Pan axes with left mouse, zoom with right",
         "arrows",
         "pan"
        ],
        [
         "Zoom",
         "Zoom to rectangle",
         "square-o",
         "zoom"
        ],
        [
         "Download",
         "Download plot",
         "floppy-o",
         "save_figure"
        ]
       ]
      }
     },
     "1dbf7b1e41904ea582962bee0d99208c": {
      "model_module": "@jupyter-widgets/base",
      "model_module_version": "1.2.0",
      "model_name": "LayoutModel",
      "state": {}
     },
     "1dc94f2562cb48cbb71e89eac4b52e5c": {
      "model_module": "jupyter-matplotlib",
      "model_module_version": "^0.7.2",
      "model_name": "MPLCanvasModel",
      "state": {
       "_cursor": "default",
       "_figure_label": "Figure 34",
       "_height": 480,
       "_width": 640,
       "layout": "IPY_MODEL_20d968512b4c48a5bfd4bc4dec51c01f",
       "toolbar": "IPY_MODEL_cf7f927e409744ee85758c822df265b5",
       "toolbar_position": "left"
      }
     },
     "1dd9b7d48bd443209c0fd9f04d1a971b": {
      "model_module": "@jupyter-widgets/base",
      "model_module_version": "1.2.0",
      "model_name": "LayoutModel",
      "state": {}
     },
     "1e33817877e947a1805e30b4751f4247": {
      "model_module": "jupyter-matplotlib",
      "model_module_version": "^0.7.2",
      "model_name": "MPLCanvasModel",
      "state": {
       "_cursor": "default",
       "_figure_label": "Figure 12",
       "_height": 480,
       "_image_mode": "diff",
       "_width": 640,
       "layout": "IPY_MODEL_590e1775bdf64998ac420c155d205c63",
       "toolbar": "IPY_MODEL_20f4374ebefe4335b8b505acb249e979",
       "toolbar_position": "left"
      }
     },
     "1e778ef7cc1c4f43a114b7c638e1d3d0": {
      "model_module": "@jupyter-widgets/controls",
      "model_module_version": "1.5.0",
      "model_name": "SliderStyleModel",
      "state": {
       "description_width": ""
      }
     },
     "1ecef9539e4345e6994dbc668dbe5191": {
      "model_module": "jupyter-matplotlib",
      "model_module_version": "^0.7.2",
      "model_name": "ToolbarModel",
      "state": {
       "layout": "IPY_MODEL_668cac82503e40f1a368ea5e82d00431",
       "toolitems": [
        [
         "Home",
         "Reset original view",
         "home",
         "home"
        ],
        [
         "Back",
         "Back to previous view",
         "arrow-left",
         "back"
        ],
        [
         "Forward",
         "Forward to next view",
         "arrow-right",
         "forward"
        ],
        [
         "Pan",
         "Pan axes with left mouse, zoom with right",
         "arrows",
         "pan"
        ],
        [
         "Zoom",
         "Zoom to rectangle",
         "square-o",
         "zoom"
        ],
        [
         "Download",
         "Download plot",
         "floppy-o",
         "save_figure"
        ]
       ]
      }
     },
     "1f5774b818764e77845111521cf0f6c0": {
      "model_module": "@jupyter-widgets/base",
      "model_module_version": "1.2.0",
      "model_name": "LayoutModel",
      "state": {}
     },
     "1fab2a3697944ef5bb6b737e4ae42453": {
      "model_module": "@jupyter-widgets/base",
      "model_module_version": "1.2.0",
      "model_name": "LayoutModel",
      "state": {}
     },
     "20c4ebbdd8ab493f91c26b486d56b6f1": {
      "model_module": "jupyter-matplotlib",
      "model_module_version": "^0.7.2",
      "model_name": "MPLCanvasModel",
      "state": {
       "_cursor": "default",
       "_figure_label": "Figure 13",
       "_height": 480,
       "_width": 640,
       "layout": "IPY_MODEL_d3e0dcfa3254442fa99579b485d4a062",
       "toolbar": "IPY_MODEL_7610d767a0a04f2abe2dda42a70f6bef",
       "toolbar_position": "left"
      }
     },
     "20d968512b4c48a5bfd4bc4dec51c01f": {
      "model_module": "@jupyter-widgets/base",
      "model_module_version": "1.2.0",
      "model_name": "LayoutModel",
      "state": {}
     },
     "20f4374ebefe4335b8b505acb249e979": {
      "model_module": "jupyter-matplotlib",
      "model_module_version": "^0.7.2",
      "model_name": "ToolbarModel",
      "state": {
       "layout": "IPY_MODEL_42ee39afa56e43cd899276d006f11799",
       "toolitems": [
        [
         "Home",
         "Reset original view",
         "home",
         "home"
        ],
        [
         "Back",
         "Back to previous view",
         "arrow-left",
         "back"
        ],
        [
         "Forward",
         "Forward to next view",
         "arrow-right",
         "forward"
        ],
        [
         "Pan",
         "Pan axes with left mouse, zoom with right",
         "arrows",
         "pan"
        ],
        [
         "Zoom",
         "Zoom to rectangle",
         "square-o",
         "zoom"
        ],
        [
         "Download",
         "Download plot",
         "floppy-o",
         "save_figure"
        ]
       ]
      }
     },
     "2105e0d1270442ee92f3b787e99f7ede": {
      "model_module": "jupyter-matplotlib",
      "model_module_version": "^0.7.2",
      "model_name": "MPLCanvasModel",
      "state": {
       "_cursor": "default",
       "_figure_label": "Figure 89",
       "_height": 480,
       "_width": 640,
       "layout": "IPY_MODEL_96e5f2b31bf745f783754d628385f669",
       "toolbar": "IPY_MODEL_dbfae837597a4746b000a99bf9b10bdb",
       "toolbar_position": "left"
      }
     },
     "212279fdad7c46b7bc9b2b7dedaf3a72": {
      "model_module": "@jupyter-widgets/base",
      "model_module_version": "1.2.0",
      "model_name": "LayoutModel",
      "state": {}
     },
     "21f65e1de6c64056957da29e34ffd5d4": {
      "model_module": "jupyter-matplotlib",
      "model_module_version": "^0.7.2",
      "model_name": "ToolbarModel",
      "state": {
       "layout": "IPY_MODEL_3e073522a3e145ecb7478c93354acf63",
       "toolitems": [
        [
         "Home",
         "Reset original view",
         "home",
         "home"
        ],
        [
         "Back",
         "Back to previous view",
         "arrow-left",
         "back"
        ],
        [
         "Forward",
         "Forward to next view",
         "arrow-right",
         "forward"
        ],
        [
         "Pan",
         "Pan axes with left mouse, zoom with right",
         "arrows",
         "pan"
        ],
        [
         "Zoom",
         "Zoom to rectangle",
         "square-o",
         "zoom"
        ],
        [
         "Download",
         "Download plot",
         "floppy-o",
         "save_figure"
        ]
       ]
      }
     },
     "2281ebcf72774e41a47ec3f9c94523f6": {
      "model_module": "@jupyter-widgets/base",
      "model_module_version": "1.2.0",
      "model_name": "LayoutModel",
      "state": {}
     },
     "2389ed446c544fb5b96ec36ff41bb2cc": {
      "model_module": "@jupyter-widgets/base",
      "model_module_version": "1.2.0",
      "model_name": "LayoutModel",
      "state": {}
     },
     "23f330dac5444768a0193bb740f741c8": {
      "model_module": "@jupyter-widgets/base",
      "model_module_version": "1.2.0",
      "model_name": "LayoutModel",
      "state": {}
     },
     "241e0151b33541d189635d5c846606b3": {
      "model_module": "jupyter-matplotlib",
      "model_module_version": "^0.7.2",
      "model_name": "ToolbarModel",
      "state": {
       "layout": "IPY_MODEL_d8198f9447ae48a5a786d5325fc6f4f6",
       "toolitems": [
        [
         "Home",
         "Reset original view",
         "home",
         "home"
        ],
        [
         "Back",
         "Back to previous view",
         "arrow-left",
         "back"
        ],
        [
         "Forward",
         "Forward to next view",
         "arrow-right",
         "forward"
        ],
        [
         "Pan",
         "Pan axes with left mouse, zoom with right",
         "arrows",
         "pan"
        ],
        [
         "Zoom",
         "Zoom to rectangle",
         "square-o",
         "zoom"
        ],
        [
         "Download",
         "Download plot",
         "floppy-o",
         "save_figure"
        ]
       ]
      }
     },
     "26793637e344449bb3e53ad6d173c7f2": {
      "model_module": "jupyter-matplotlib",
      "model_module_version": "^0.7.2",
      "model_name": "ToolbarModel",
      "state": {
       "layout": "IPY_MODEL_5057fcee0ecf472dbed80a8325526d3a",
       "toolitems": [
        [
         "Home",
         "Reset original view",
         "home",
         "home"
        ],
        [
         "Back",
         "Back to previous view",
         "arrow-left",
         "back"
        ],
        [
         "Forward",
         "Forward to next view",
         "arrow-right",
         "forward"
        ],
        [
         "Pan",
         "Pan axes with left mouse, zoom with right",
         "arrows",
         "pan"
        ],
        [
         "Zoom",
         "Zoom to rectangle",
         "square-o",
         "zoom"
        ],
        [
         "Download",
         "Download plot",
         "floppy-o",
         "save_figure"
        ]
       ]
      }
     },
     "2696e1f3d35e4519a37a60989821117f": {
      "model_module": "@jupyter-widgets/controls",
      "model_module_version": "1.5.0",
      "model_name": "SliderStyleModel",
      "state": {
       "description_width": ""
      }
     },
     "27710b6fa7d2401298b87c3327fd4363": {
      "model_module": "@jupyter-widgets/base",
      "model_module_version": "1.2.0",
      "model_name": "LayoutModel",
      "state": {}
     },
     "2a009f3d40e943758e6a4dfdef2dfd76": {
      "model_module": "@jupyter-widgets/base",
      "model_module_version": "1.2.0",
      "model_name": "LayoutModel",
      "state": {}
     },
     "2b1f530bf4c94725a42fb590a32c3ee8": {
      "model_module": "jupyter-matplotlib",
      "model_module_version": "^0.7.2",
      "model_name": "MPLCanvasModel",
      "state": {
       "_cursor": "default",
       "_figure_label": "Figure 5",
       "_height": 480,
       "_image_mode": "diff",
       "_width": 1267,
       "layout": "IPY_MODEL_0e9eadeae947428f9bd7a6fededbd4b0",
       "toolbar": "IPY_MODEL_8bb3810d1aac48dfb02346d8660c619f",
       "toolbar_position": "left"
      }
     },
     "2f7038186cb44ce98327b9292e7ea0a2": {
      "model_module": "@jupyter-widgets/base",
      "model_module_version": "1.2.0",
      "model_name": "LayoutModel",
      "state": {}
     },
     "3032c36d4688434db9870d22c12fc7ef": {
      "model_module": "@jupyter-widgets/base",
      "model_module_version": "1.2.0",
      "model_name": "LayoutModel",
      "state": {}
     },
     "330110e1fc2f4fa1b8691aff8540be4a": {
      "model_module": "@jupyter-widgets/base",
      "model_module_version": "1.2.0",
      "model_name": "LayoutModel",
      "state": {}
     },
     "33474bf8290448589fcf56e5d65b9ecb": {
      "model_module": "@jupyter-widgets/base",
      "model_module_version": "1.2.0",
      "model_name": "LayoutModel",
      "state": {}
     },
     "3591aa08300140b393ce41678616e79a": {
      "model_module": "@jupyter-widgets/base",
      "model_module_version": "1.2.0",
      "model_name": "LayoutModel",
      "state": {}
     },
     "35e1b458c547495ea652d594daf4f8a8": {
      "model_module": "@jupyter-widgets/base",
      "model_module_version": "1.2.0",
      "model_name": "LayoutModel",
      "state": {}
     },
     "35f2bd74294c4f96889e7d44f9a2e4ab": {
      "model_module": "jupyter-matplotlib",
      "model_module_version": "^0.7.2",
      "model_name": "MPLCanvasModel",
      "state": {
       "_cursor": "default",
       "_figure_label": "Figure 63",
       "_height": 480,
       "_width": 640,
       "layout": "IPY_MODEL_cc02c33177f24f39b66ebba43b9e8116",
       "toolbar": "IPY_MODEL_c8b1fc397b7c4c5c8db9b45ee64cd10a",
       "toolbar_position": "left"
      }
     },
     "36392a1195114e94b5400e70f5e6f9d0": {
      "model_module": "jupyter-matplotlib",
      "model_module_version": "^0.7.2",
      "model_name": "ToolbarModel",
      "state": {
       "layout": "IPY_MODEL_d364477487cb4ecc94df718351837bcc",
       "toolitems": [
        [
         "Home",
         "Reset original view",
         "home",
         "home"
        ],
        [
         "Back",
         "Back to previous view",
         "arrow-left",
         "back"
        ],
        [
         "Forward",
         "Forward to next view",
         "arrow-right",
         "forward"
        ],
        [
         "Pan",
         "Pan axes with left mouse, zoom with right",
         "arrows",
         "pan"
        ],
        [
         "Zoom",
         "Zoom to rectangle",
         "square-o",
         "zoom"
        ],
        [
         "Download",
         "Download plot",
         "floppy-o",
         "save_figure"
        ]
       ]
      }
     },
     "37de1b5991ef4b31a8a1000deb09b14c": {
      "model_module": "jupyter-matplotlib",
      "model_module_version": "^0.7.2",
      "model_name": "MPLCanvasModel",
      "state": {
       "_cursor": "default",
       "_figure_label": "Figure 42",
       "_height": 480,
       "_image_mode": "diff",
       "_message": "x=1063.84      y=183.435     ",
       "_width": 640,
       "layout": "IPY_MODEL_7259f8e985db4d298c1a63ad57a5dde0",
       "toolbar": "IPY_MODEL_bc080a8daa8f44c9ac2b673aee818c2a",
       "toolbar_position": "left"
      }
     },
     "3a1f29f73a994c77a0461407bd683f60": {
      "model_module": "jupyter-matplotlib",
      "model_module_version": "^0.7.2",
      "model_name": "MPLCanvasModel",
      "state": {
       "_cursor": "default",
       "_figure_label": "Figure 20",
       "_height": 480,
       "_width": 640,
       "layout": "IPY_MODEL_e83e40ee095641f2aa94e32316f659b3",
       "toolbar": "IPY_MODEL_77302608da4c4d109fad8a89df32c693",
       "toolbar_position": "left"
      }
     },
     "3a4522bbc60d4c029bd46ce284d4de0f": {
      "model_module": "jupyter-matplotlib",
      "model_module_version": "^0.7.2",
      "model_name": "MPLCanvasModel",
      "state": {
       "_cursor": "default",
       "_figure_label": "Figure 73",
       "_height": 480,
       "_width": 640,
       "layout": "IPY_MODEL_bc5b6b5315b04b10bbb878bcd67b28fa",
       "toolbar": "IPY_MODEL_678494528d914a18946499231d39bd03",
       "toolbar_position": "left"
      }
     },
     "3cf6fa29f70b442c91dd6f149e7336ff": {
      "model_module": "jupyter-matplotlib",
      "model_module_version": "^0.7.2",
      "model_name": "MPLCanvasModel",
      "state": {
       "_cursor": "default",
       "_figure_label": "Figure 45",
       "_height": 480,
       "_width": 640,
       "layout": "IPY_MODEL_023a18452a404b1ebd5cb5f80b7443e5",
       "toolbar": "IPY_MODEL_0c764f720a5048ec93333225d7367722",
       "toolbar_position": "left"
      }
     },
     "3d156f2931814594a27e684f71f30f04": {
      "model_module": "@jupyter-widgets/base",
      "model_module_version": "1.2.0",
      "model_name": "LayoutModel",
      "state": {}
     },
     "3ddc2204bac248cc897e1545b0c09886": {
      "model_module": "@jupyter-widgets/base",
      "model_module_version": "1.2.0",
      "model_name": "LayoutModel",
      "state": {}
     },
     "3e073522a3e145ecb7478c93354acf63": {
      "model_module": "@jupyter-widgets/base",
      "model_module_version": "1.2.0",
      "model_name": "LayoutModel",
      "state": {}
     },
     "3f8557f9f6ad4ffbba3f0e6f9b035aa3": {
      "model_module": "jupyter-matplotlib",
      "model_module_version": "^0.7.2",
      "model_name": "ToolbarModel",
      "state": {
       "layout": "IPY_MODEL_e081d531b3b747c78009f726b5a08908",
       "toolitems": [
        [
         "Home",
         "Reset original view",
         "home",
         "home"
        ],
        [
         "Back",
         "Back to previous view",
         "arrow-left",
         "back"
        ],
        [
         "Forward",
         "Forward to next view",
         "arrow-right",
         "forward"
        ],
        [
         "Pan",
         "Pan axes with left mouse, zoom with right",
         "arrows",
         "pan"
        ],
        [
         "Zoom",
         "Zoom to rectangle",
         "square-o",
         "zoom"
        ],
        [
         "Download",
         "Download plot",
         "floppy-o",
         "save_figure"
        ]
       ]
      }
     },
     "408cc88c2ab04322ad5e0b89753ffbed": {
      "model_module": "@jupyter-widgets/base",
      "model_module_version": "1.2.0",
      "model_name": "LayoutModel",
      "state": {}
     },
     "40956cedc0b7416d97b6874d373662b4": {
      "model_module": "jupyter-matplotlib",
      "model_module_version": "^0.7.2",
      "model_name": "ToolbarModel",
      "state": {
       "layout": "IPY_MODEL_d87e512628d44225b32036ca5c71d82f",
       "toolitems": [
        [
         "Home",
         "Reset original view",
         "home",
         "home"
        ],
        [
         "Back",
         "Back to previous view",
         "arrow-left",
         "back"
        ],
        [
         "Forward",
         "Forward to next view",
         "arrow-right",
         "forward"
        ],
        [
         "Pan",
         "Pan axes with left mouse, zoom with right",
         "arrows",
         "pan"
        ],
        [
         "Zoom",
         "Zoom to rectangle",
         "square-o",
         "zoom"
        ],
        [
         "Download",
         "Download plot",
         "floppy-o",
         "save_figure"
        ]
       ]
      }
     },
     "416be7fb1155415c9ac3f88024bfb7c8": {
      "model_module": "@jupyter-widgets/base",
      "model_module_version": "1.2.0",
      "model_name": "LayoutModel",
      "state": {}
     },
     "4297b37193154232beee51881a9f121a": {
      "model_module": "@jupyter-widgets/base",
      "model_module_version": "1.2.0",
      "model_name": "LayoutModel",
      "state": {}
     },
     "42ee39afa56e43cd899276d006f11799": {
      "model_module": "@jupyter-widgets/base",
      "model_module_version": "1.2.0",
      "model_name": "LayoutModel",
      "state": {}
     },
     "43108d2accd34d7e89a6bf2c33c8ee1c": {
      "model_module": "@jupyter-widgets/base",
      "model_module_version": "1.2.0",
      "model_name": "LayoutModel",
      "state": {}
     },
     "4367c1a310be4183a83628b55cfe4472": {
      "model_module": "jupyter-matplotlib",
      "model_module_version": "^0.7.2",
      "model_name": "ToolbarModel",
      "state": {
       "layout": "IPY_MODEL_01907ad9ccf04cfeb4975aaf6cf063b1",
       "toolitems": [
        [
         "Home",
         "Reset original view",
         "home",
         "home"
        ],
        [
         "Back",
         "Back to previous view",
         "arrow-left",
         "back"
        ],
        [
         "Forward",
         "Forward to next view",
         "arrow-right",
         "forward"
        ],
        [
         "Pan",
         "Pan axes with left mouse, zoom with right",
         "arrows",
         "pan"
        ],
        [
         "Zoom",
         "Zoom to rectangle",
         "square-o",
         "zoom"
        ],
        [
         "Download",
         "Download plot",
         "floppy-o",
         "save_figure"
        ]
       ]
      }
     },
     "44036d5024814c7a97f19433c194586e": {
      "model_module": "jupyter-matplotlib",
      "model_module_version": "^0.7.2",
      "model_name": "MPLCanvasModel",
      "state": {
       "_cursor": "default",
       "_figure_label": "Figure 1",
       "_height": 480,
       "_image_mode": "diff",
       "_width": 640,
       "layout": "IPY_MODEL_c0d01acc541843e7a38f36f6af6e2dc5",
       "toolbar": "IPY_MODEL_4367c1a310be4183a83628b55cfe4472",
       "toolbar_position": "left"
      }
     },
     "4422b489bee446499d3443d903910eff": {
      "model_module": "@jupyter-widgets/base",
      "model_module_version": "1.2.0",
      "model_name": "LayoutModel",
      "state": {}
     },
     "44b46b779a9f4cb5976c4fc61535ae76": {
      "model_module": "jupyter-matplotlib",
      "model_module_version": "^0.7.2",
      "model_name": "ToolbarModel",
      "state": {
       "layout": "IPY_MODEL_e9cc5c329e46455eb0dbdbe7ba3dc9cc",
       "toolitems": [
        [
         "Home",
         "Reset original view",
         "home",
         "home"
        ],
        [
         "Back",
         "Back to previous view",
         "arrow-left",
         "back"
        ],
        [
         "Forward",
         "Forward to next view",
         "arrow-right",
         "forward"
        ],
        [
         "Pan",
         "Pan axes with left mouse, zoom with right",
         "arrows",
         "pan"
        ],
        [
         "Zoom",
         "Zoom to rectangle",
         "square-o",
         "zoom"
        ],
        [
         "Download",
         "Download plot",
         "floppy-o",
         "save_figure"
        ]
       ]
      }
     },
     "4632de2da23c4022af787a1fdf6d9ef6": {
      "model_module": "jupyter-matplotlib",
      "model_module_version": "^0.7.2",
      "model_name": "ToolbarModel",
      "state": {
       "layout": "IPY_MODEL_e1fa81e56d8845a3b3b9e4539a80c7b6",
       "toolitems": [
        [
         "Home",
         "Reset original view",
         "home",
         "home"
        ],
        [
         "Back",
         "Back to previous view",
         "arrow-left",
         "back"
        ],
        [
         "Forward",
         "Forward to next view",
         "arrow-right",
         "forward"
        ],
        [
         "Pan",
         "Pan axes with left mouse, zoom with right",
         "arrows",
         "pan"
        ],
        [
         "Zoom",
         "Zoom to rectangle",
         "square-o",
         "zoom"
        ],
        [
         "Download",
         "Download plot",
         "floppy-o",
         "save_figure"
        ]
       ]
      }
     },
     "486688cbaf804c0c92630eb88d28a9f8": {
      "model_module": "jupyter-matplotlib",
      "model_module_version": "^0.7.2",
      "model_name": "MPLCanvasModel",
      "state": {
       "_cursor": "default",
       "_figure_label": "Figure 25",
       "_height": 480,
       "_image_mode": "diff",
       "_message": "x=36329        y=4891.65     ",
       "_width": 640,
       "layout": "IPY_MODEL_cf1a8276228d49beaf3796d2987a4d94",
       "toolbar": "IPY_MODEL_8cb7914374ed4c61931ff35d26d193c5",
       "toolbar_position": "left"
      }
     },
     "488febb64c0d498db4ae1566ecbec8f8": {
      "model_module": "jupyter-matplotlib",
      "model_module_version": "^0.7.2",
      "model_name": "MPLCanvasModel",
      "state": {
       "_cursor": "default",
       "_figure_label": "Figure 78",
       "_height": 480,
       "_image_mode": "diff",
       "_width": 640,
       "layout": "IPY_MODEL_3d156f2931814594a27e684f71f30f04",
       "toolbar": "IPY_MODEL_9ed35ec7789a43d9a28d83df78723d1c",
       "toolbar_position": "left"
      }
     },
     "491ece9e5e394c989e37bdf139b9b423": {
      "model_module": "jupyter-matplotlib",
      "model_module_version": "^0.7.2",
      "model_name": "MPLCanvasModel",
      "state": {
       "_cursor": "default",
       "_figure_label": "Figure 15",
       "_height": 480,
       "_image_mode": "diff",
       "_width": 640,
       "layout": "IPY_MODEL_5462a8a5a34b4bffacc2572df57a5735",
       "toolbar": "IPY_MODEL_21f65e1de6c64056957da29e34ffd5d4",
       "toolbar_position": "left"
      }
     },
     "491ff434c9bc4102b27235736b1ad83c": {
      "model_module": "@jupyter-widgets/base",
      "model_module_version": "1.2.0",
      "model_name": "LayoutModel",
      "state": {}
     },
     "493fb092af3444de83437d129c3e87d3": {
      "model_module": "jupyter-matplotlib",
      "model_module_version": "^0.7.2",
      "model_name": "MPLCanvasModel",
      "state": {
       "_cursor": "default",
       "layout": "IPY_MODEL_1f5774b818764e77845111521cf0f6c0",
       "toolbar": "IPY_MODEL_241e0151b33541d189635d5c846606b3",
       "toolbar_position": "left"
      }
     },
     "49ac841b9cdb46409d419fa06168f66a": {
      "model_module": "@jupyter-widgets/base",
      "model_module_version": "1.2.0",
      "model_name": "LayoutModel",
      "state": {}
     },
     "4c6f73bfc14d4ebda3ca34759d03cad7": {
      "model_module": "@jupyter-widgets/base",
      "model_module_version": "1.2.0",
      "model_name": "LayoutModel",
      "state": {}
     },
     "4c7343d25f334b9cb2e3d07f2a5be45d": {
      "model_module": "jupyter-matplotlib",
      "model_module_version": "^0.7.2",
      "model_name": "MPLCanvasModel",
      "state": {
       "_cursor": "default",
       "_figure_label": "Figure 51",
       "_height": 480,
       "_width": 640,
       "layout": "IPY_MODEL_8f00556ff9fe450c92471e720ea69cca",
       "toolbar": "IPY_MODEL_8c6b0db249e940a68cc4e6f240bd9182",
       "toolbar_position": "left"
      }
     },
     "4d6eb676ec2241d097e60428bff1fbc8": {
      "model_module": "jupyter-matplotlib",
      "model_module_version": "^0.7.2",
      "model_name": "ToolbarModel",
      "state": {
       "layout": "IPY_MODEL_948639f2d2a0402c9310f428bfaba2a1",
       "toolitems": [
        [
         "Home",
         "Reset original view",
         "home",
         "home"
        ],
        [
         "Back",
         "Back to previous view",
         "arrow-left",
         "back"
        ],
        [
         "Forward",
         "Forward to next view",
         "arrow-right",
         "forward"
        ],
        [
         "Pan",
         "Pan axes with left mouse, zoom with right",
         "arrows",
         "pan"
        ],
        [
         "Zoom",
         "Zoom to rectangle",
         "square-o",
         "zoom"
        ],
        [
         "Download",
         "Download plot",
         "floppy-o",
         "save_figure"
        ]
       ]
      }
     },
     "4dd82808a77b4381b38e9bc6ac9cd3b3": {
      "model_module": "@jupyter-widgets/controls",
      "model_module_version": "1.5.0",
      "model_name": "IntSliderModel",
      "state": {
       "description": "Days",
       "layout": "IPY_MODEL_8e088e950fc24b939fe1b7456216382b",
       "max": 40,
       "style": "IPY_MODEL_4f3151998f5146b69212e8850e6910d5"
      }
     },
     "4de89fac15df4d998c432ea7258bbdf3": {
      "model_module": "@jupyter-widgets/controls",
      "model_module_version": "1.5.0",
      "model_name": "IntSliderModel",
      "state": {
       "description": "Days",
       "layout": "IPY_MODEL_0e935be9eabc469e97c285b74f74718c",
       "max": 40,
       "style": "IPY_MODEL_5a8927a7bc914f9795543f351f2a8854"
      }
     },
     "4e5053d9350a4cf5a9c5fefb2cc8c6f3": {
      "model_module": "@jupyter-widgets/base",
      "model_module_version": "1.2.0",
      "model_name": "LayoutModel",
      "state": {}
     },
     "4e5a88544517451d9d0b1e99225cc0ed": {
      "model_module": "@jupyter-widgets/base",
      "model_module_version": "1.2.0",
      "model_name": "LayoutModel",
      "state": {}
     },
     "4f3151998f5146b69212e8850e6910d5": {
      "model_module": "@jupyter-widgets/controls",
      "model_module_version": "1.5.0",
      "model_name": "SliderStyleModel",
      "state": {
       "description_width": ""
      }
     },
     "4f5d95c2a82543588f5d29483d67babd": {
      "model_module": "jupyter-matplotlib",
      "model_module_version": "^0.7.2",
      "model_name": "MPLCanvasModel",
      "state": {
       "_cursor": "default",
       "_figure_label": "Figure 7",
       "_height": 480,
       "_image_mode": "diff",
       "_width": 640,
       "layout": "IPY_MODEL_7f3c94cecb59441db9ae6d9686839528",
       "toolbar": "IPY_MODEL_10532dd21b154cc2ad66b39b330a30d0",
       "toolbar_position": "left"
      }
     },
     "4fc7444da7c04890a9f1627cb411c371": {
      "model_module": "@jupyter-widgets/base",
      "model_module_version": "1.2.0",
      "model_name": "LayoutModel",
      "state": {}
     },
     "5057fcee0ecf472dbed80a8325526d3a": {
      "model_module": "@jupyter-widgets/base",
      "model_module_version": "1.2.0",
      "model_name": "LayoutModel",
      "state": {}
     },
     "50eef9404af44c699bf1bb37fa05175e": {
      "model_module": "jupyter-matplotlib",
      "model_module_version": "^0.7.2",
      "model_name": "ToolbarModel",
      "state": {
       "layout": "IPY_MODEL_b6252ac58a9c4f28a0a81f73d59939e6",
       "toolitems": [
        [
         "Home",
         "Reset original view",
         "home",
         "home"
        ],
        [
         "Back",
         "Back to previous view",
         "arrow-left",
         "back"
        ],
        [
         "Forward",
         "Forward to next view",
         "arrow-right",
         "forward"
        ],
        [
         "Pan",
         "Pan axes with left mouse, zoom with right",
         "arrows",
         "pan"
        ],
        [
         "Zoom",
         "Zoom to rectangle",
         "square-o",
         "zoom"
        ],
        [
         "Download",
         "Download plot",
         "floppy-o",
         "save_figure"
        ]
       ]
      }
     },
     "52b10c5648b944a78d9c79efb258c76a": {
      "model_module": "@jupyter-widgets/base",
      "model_module_version": "1.2.0",
      "model_name": "LayoutModel",
      "state": {}
     },
     "52e68dcb050b4c38939408708564ddac": {
      "model_module": "jupyter-matplotlib",
      "model_module_version": "^0.7.2",
      "model_name": "ToolbarModel",
      "state": {
       "layout": "IPY_MODEL_8e606024dbea491ba7ac18c432146503",
       "toolitems": [
        [
         "Home",
         "Reset original view",
         "home",
         "home"
        ],
        [
         "Back",
         "Back to previous view",
         "arrow-left",
         "back"
        ],
        [
         "Forward",
         "Forward to next view",
         "arrow-right",
         "forward"
        ],
        [
         "Pan",
         "Pan axes with left mouse, zoom with right",
         "arrows",
         "pan"
        ],
        [
         "Zoom",
         "Zoom to rectangle",
         "square-o",
         "zoom"
        ],
        [
         "Download",
         "Download plot",
         "floppy-o",
         "save_figure"
        ]
       ]
      }
     },
     "537e33b627634aa8a853428416ac57fa": {
      "model_module": "jupyter-matplotlib",
      "model_module_version": "^0.7.2",
      "model_name": "MPLCanvasModel",
      "state": {
       "_cursor": "default",
       "_figure_label": "Figure 69",
       "_height": 480,
       "_image_mode": "diff",
       "_width": 640,
       "layout": "IPY_MODEL_6e81600174564559a04a2e92b47c30a6",
       "toolbar": "IPY_MODEL_c7c552eead224899adff0d743c5f7152",
       "toolbar_position": "left"
      }
     },
     "5462a8a5a34b4bffacc2572df57a5735": {
      "model_module": "@jupyter-widgets/base",
      "model_module_version": "1.2.0",
      "model_name": "LayoutModel",
      "state": {}
     },
     "5650106e2a184286809fcc015ba8e4f9": {
      "model_module": "jupyter-matplotlib",
      "model_module_version": "^0.7.2",
      "model_name": "MPLCanvasModel",
      "state": {
       "_cursor": "default",
       "_figure_label": "Figure 26",
       "_height": 480,
       "_image_mode": "diff",
       "_width": 640,
       "layout": "IPY_MODEL_e3cd6a3fa1784783a1cad0fb2fec2818",
       "toolbar": "IPY_MODEL_d2ea6b54b9634fa983f4c42aada3c1a2",
       "toolbar_position": "left"
      }
     },
     "57137adc809640f1adb45f8724c3fcae": {
      "model_module": "@jupyter-widgets/base",
      "model_module_version": "1.2.0",
      "model_name": "LayoutModel",
      "state": {}
     },
     "572483d87b1a4f53bc92fc666f5898e3": {
      "model_module": "jupyter-matplotlib",
      "model_module_version": "^0.7.2",
      "model_name": "MPLCanvasModel",
      "state": {
       "_cursor": "default",
       "_figure_label": "Figure 32",
       "_height": 480,
       "_image_mode": "diff",
       "_width": 640,
       "layout": "IPY_MODEL_1fab2a3697944ef5bb6b737e4ae42453",
       "toolbar": "IPY_MODEL_f01a844388fc421f92c9eb1ecda4576f",
       "toolbar_position": "left"
      }
     },
     "57d581a2cd0a443aa7131d676156e84b": {
      "model_module": "@jupyter-widgets/base",
      "model_module_version": "1.2.0",
      "model_name": "LayoutModel",
      "state": {}
     },
     "58a4545bc42a4bb69535e88b798e680b": {
      "model_module": "jupyter-matplotlib",
      "model_module_version": "^0.7.2",
      "model_name": "ToolbarModel",
      "state": {
       "layout": "IPY_MODEL_739684cc0f4143eeab79de1f01a3be35",
       "toolitems": [
        [
         "Home",
         "Reset original view",
         "home",
         "home"
        ],
        [
         "Back",
         "Back to previous view",
         "arrow-left",
         "back"
        ],
        [
         "Forward",
         "Forward to next view",
         "arrow-right",
         "forward"
        ],
        [
         "Pan",
         "Pan axes with left mouse, zoom with right",
         "arrows",
         "pan"
        ],
        [
         "Zoom",
         "Zoom to rectangle",
         "square-o",
         "zoom"
        ],
        [
         "Download",
         "Download plot",
         "floppy-o",
         "save_figure"
        ]
       ]
      }
     },
     "58b463ed2abe4637b80bb52ec43e09b9": {
      "model_module": "jupyter-matplotlib",
      "model_module_version": "^0.7.2",
      "model_name": "MPLCanvasModel",
      "state": {
       "_cursor": "default",
       "_figure_label": "Figure 61",
       "_height": 480,
       "_image_mode": "diff",
       "_rubberband_y": 481,
       "_width": 1158,
       "layout": "IPY_MODEL_f84f0a15688440399c20015450ff43c1",
       "toolbar": "IPY_MODEL_bccd32b0430941138bf1731b827e98cb",
       "toolbar_position": "left"
      }
     },
     "590e1775bdf64998ac420c155d205c63": {
      "model_module": "@jupyter-widgets/base",
      "model_module_version": "1.2.0",
      "model_name": "LayoutModel",
      "state": {}
     },
     "5a6760aac20d4072bf776a284c11b8cb": {
      "model_module": "jupyter-matplotlib",
      "model_module_version": "^0.7.2",
      "model_name": "ToolbarModel",
      "state": {
       "layout": "IPY_MODEL_99174ab2771b4aa08ad060abb964555f",
       "toolitems": [
        [
         "Home",
         "Reset original view",
         "home",
         "home"
        ],
        [
         "Back",
         "Back to previous view",
         "arrow-left",
         "back"
        ],
        [
         "Forward",
         "Forward to next view",
         "arrow-right",
         "forward"
        ],
        [
         "Pan",
         "Pan axes with left mouse, zoom with right",
         "arrows",
         "pan"
        ],
        [
         "Zoom",
         "Zoom to rectangle",
         "square-o",
         "zoom"
        ],
        [
         "Download",
         "Download plot",
         "floppy-o",
         "save_figure"
        ]
       ]
      }
     },
     "5a8927a7bc914f9795543f351f2a8854": {
      "model_module": "@jupyter-widgets/controls",
      "model_module_version": "1.5.0",
      "model_name": "SliderStyleModel",
      "state": {
       "description_width": ""
      }
     },
     "5bbeeb9021e14744805b5b56fb27d2e6": {
      "model_module": "jupyter-matplotlib",
      "model_module_version": "^0.7.2",
      "model_name": "MPLCanvasModel",
      "state": {
       "_cursor": "default",
       "_figure_label": "Figure 19",
       "_height": 480,
       "_width": 640,
       "layout": "IPY_MODEL_ea59c2eaeb8d449eb1f05136a374e825",
       "toolbar": "IPY_MODEL_c5fd81dc30da4f0cb1b03af0f8381e4f",
       "toolbar_position": "left"
      }
     },
     "5c7461c84a8f40858356e81eccc7160d": {
      "model_module": "jupyter-matplotlib",
      "model_module_version": "^0.7.2",
      "model_name": "ToolbarModel",
      "state": {
       "layout": "IPY_MODEL_23f330dac5444768a0193bb740f741c8",
       "toolitems": [
        [
         "Home",
         "Reset original view",
         "home",
         "home"
        ],
        [
         "Back",
         "Back to previous view",
         "arrow-left",
         "back"
        ],
        [
         "Forward",
         "Forward to next view",
         "arrow-right",
         "forward"
        ],
        [
         "Pan",
         "Pan axes with left mouse, zoom with right",
         "arrows",
         "pan"
        ],
        [
         "Zoom",
         "Zoom to rectangle",
         "square-o",
         "zoom"
        ],
        [
         "Download",
         "Download plot",
         "floppy-o",
         "save_figure"
        ]
       ]
      }
     },
     "5ca514853faf4b52bc4d644f3576205e": {
      "model_module": "jupyter-matplotlib",
      "model_module_version": "^0.7.2",
      "model_name": "ToolbarModel",
      "state": {
       "layout": "IPY_MODEL_3032c36d4688434db9870d22c12fc7ef",
       "toolitems": [
        [
         "Home",
         "Reset original view",
         "home",
         "home"
        ],
        [
         "Back",
         "Back to previous view",
         "arrow-left",
         "back"
        ],
        [
         "Forward",
         "Forward to next view",
         "arrow-right",
         "forward"
        ],
        [
         "Pan",
         "Pan axes with left mouse, zoom with right",
         "arrows",
         "pan"
        ],
        [
         "Zoom",
         "Zoom to rectangle",
         "square-o",
         "zoom"
        ],
        [
         "Download",
         "Download plot",
         "floppy-o",
         "save_figure"
        ]
       ]
      }
     },
     "5df9b735f10447539b5d0535d6dbed01": {
      "model_module": "@jupyter-widgets/base",
      "model_module_version": "1.2.0",
      "model_name": "LayoutModel",
      "state": {}
     },
     "5f11b4af67144a2399f6822c8678a0f8": {
      "model_module": "@jupyter-widgets/base",
      "model_module_version": "1.2.0",
      "model_name": "LayoutModel",
      "state": {}
     },
     "61025785e0cd4994a2407c04332f5def": {
      "model_module": "jupyter-matplotlib",
      "model_module_version": "^0.7.2",
      "model_name": "ToolbarModel",
      "state": {
       "layout": "IPY_MODEL_bfe89d8e54e44592ae2e84c8eeb1eb90",
       "toolitems": [
        [
         "Home",
         "Reset original view",
         "home",
         "home"
        ],
        [
         "Back",
         "Back to previous view",
         "arrow-left",
         "back"
        ],
        [
         "Forward",
         "Forward to next view",
         "arrow-right",
         "forward"
        ],
        [
         "Pan",
         "Pan axes with left mouse, zoom with right",
         "arrows",
         "pan"
        ],
        [
         "Zoom",
         "Zoom to rectangle",
         "square-o",
         "zoom"
        ],
        [
         "Download",
         "Download plot",
         "floppy-o",
         "save_figure"
        ]
       ]
      }
     },
     "61036d89769b46e9a9f83bef330a3fe5": {
      "model_module": "@jupyter-widgets/base",
      "model_module_version": "1.2.0",
      "model_name": "LayoutModel",
      "state": {}
     },
     "61370e0c445e463ab2dc29e8eb208d70": {
      "model_module": "jupyter-matplotlib",
      "model_module_version": "^0.7.2",
      "model_name": "MPLCanvasModel",
      "state": {
       "_cursor": "default",
       "_figure_label": "Figure 57",
       "_height": 480,
       "_image_mode": "diff",
       "_width": 640,
       "layout": "IPY_MODEL_c4b4fb28c666428a8dc26ca90b3a1a3a",
       "toolbar": "IPY_MODEL_5a6760aac20d4072bf776a284c11b8cb",
       "toolbar_position": "left"
      }
     },
     "61ed3e5b0ec54e60a504f3e3166162c7": {
      "model_module": "@jupyter-widgets/base",
      "model_module_version": "1.2.0",
      "model_name": "LayoutModel",
      "state": {}
     },
     "620178dc7f0e471da3c243b59f905e7b": {
      "model_module": "jupyter-matplotlib",
      "model_module_version": "^0.7.2",
      "model_name": "MPLCanvasModel",
      "state": {
       "_cursor": "default",
       "_figure_label": "Figure 30",
       "_height": 480,
       "_width": 640,
       "layout": "IPY_MODEL_4422b489bee446499d3443d903910eff",
       "toolbar": "IPY_MODEL_6f7ad30d6dc249e5827187065a69d5fa",
       "toolbar_position": "left"
      }
     },
     "629dfbf7582c49c7bf06f4b719d8d543": {
      "model_module": "@jupyter-widgets/base",
      "model_module_version": "1.2.0",
      "model_name": "LayoutModel",
      "state": {}
     },
     "639debaccd8d4cceb97e93d9a0ca7bb3": {
      "model_module": "@jupyter-widgets/base",
      "model_module_version": "1.2.0",
      "model_name": "LayoutModel",
      "state": {}
     },
     "668cac82503e40f1a368ea5e82d00431": {
      "model_module": "@jupyter-widgets/base",
      "model_module_version": "1.2.0",
      "model_name": "LayoutModel",
      "state": {}
     },
     "6696a1d75ff648f4902f1ef42e113a4e": {
      "model_module": "@jupyter-widgets/base",
      "model_module_version": "1.2.0",
      "model_name": "LayoutModel",
      "state": {}
     },
     "678494528d914a18946499231d39bd03": {
      "model_module": "jupyter-matplotlib",
      "model_module_version": "^0.7.2",
      "model_name": "ToolbarModel",
      "state": {
       "layout": "IPY_MODEL_f2ee15a461174a159dc312507a05660a",
       "toolitems": [
        [
         "Home",
         "Reset original view",
         "home",
         "home"
        ],
        [
         "Back",
         "Back to previous view",
         "arrow-left",
         "back"
        ],
        [
         "Forward",
         "Forward to next view",
         "arrow-right",
         "forward"
        ],
        [
         "Pan",
         "Pan axes with left mouse, zoom with right",
         "arrows",
         "pan"
        ],
        [
         "Zoom",
         "Zoom to rectangle",
         "square-o",
         "zoom"
        ],
        [
         "Download",
         "Download plot",
         "floppy-o",
         "save_figure"
        ]
       ]
      }
     },
     "67f08d185e3d4ca0acf8b956417e6bb2": {
      "model_module": "@jupyter-widgets/base",
      "model_module_version": "1.2.0",
      "model_name": "LayoutModel",
      "state": {}
     },
     "691561c4fdf54266a960b4b5fa1b90f8": {
      "model_module": "jupyter-matplotlib",
      "model_module_version": "^0.7.2",
      "model_name": "ToolbarModel",
      "state": {
       "layout": "IPY_MODEL_e9edd08296484b5cbc95259c2b904322",
       "toolitems": [
        [
         "Home",
         "Reset original view",
         "home",
         "home"
        ],
        [
         "Back",
         "Back to previous view",
         "arrow-left",
         "back"
        ],
        [
         "Forward",
         "Forward to next view",
         "arrow-right",
         "forward"
        ],
        [
         "Pan",
         "Pan axes with left mouse, zoom with right",
         "arrows",
         "pan"
        ],
        [
         "Zoom",
         "Zoom to rectangle",
         "square-o",
         "zoom"
        ],
        [
         "Download",
         "Download plot",
         "floppy-o",
         "save_figure"
        ]
       ]
      }
     },
     "6a9cddcae6ca4900bab31562156bb350": {
      "model_module": "@jupyter-widgets/base",
      "model_module_version": "1.2.0",
      "model_name": "LayoutModel",
      "state": {}
     },
     "6ac371d8f91d423f98e91fb51d2bf1f4": {
      "model_module": "jupyter-matplotlib",
      "model_module_version": "^0.7.2",
      "model_name": "ToolbarModel",
      "state": {
       "layout": "IPY_MODEL_864ff63f6caa4284bc01cdfbbec4b95e",
       "toolitems": [
        [
         "Home",
         "Reset original view",
         "home",
         "home"
        ],
        [
         "Back",
         "Back to previous view",
         "arrow-left",
         "back"
        ],
        [
         "Forward",
         "Forward to next view",
         "arrow-right",
         "forward"
        ],
        [
         "Pan",
         "Pan axes with left mouse, zoom with right",
         "arrows",
         "pan"
        ],
        [
         "Zoom",
         "Zoom to rectangle",
         "square-o",
         "zoom"
        ],
        [
         "Download",
         "Download plot",
         "floppy-o",
         "save_figure"
        ]
       ]
      }
     },
     "6e81600174564559a04a2e92b47c30a6": {
      "model_module": "@jupyter-widgets/base",
      "model_module_version": "1.2.0",
      "model_name": "LayoutModel",
      "state": {}
     },
     "6f7ad30d6dc249e5827187065a69d5fa": {
      "model_module": "jupyter-matplotlib",
      "model_module_version": "^0.7.2",
      "model_name": "ToolbarModel",
      "state": {
       "layout": "IPY_MODEL_ca464609708e4f08abc2e51cd7f03d86",
       "toolitems": [
        [
         "Home",
         "Reset original view",
         "home",
         "home"
        ],
        [
         "Back",
         "Back to previous view",
         "arrow-left",
         "back"
        ],
        [
         "Forward",
         "Forward to next view",
         "arrow-right",
         "forward"
        ],
        [
         "Pan",
         "Pan axes with left mouse, zoom with right",
         "arrows",
         "pan"
        ],
        [
         "Zoom",
         "Zoom to rectangle",
         "square-o",
         "zoom"
        ],
        [
         "Download",
         "Download plot",
         "floppy-o",
         "save_figure"
        ]
       ]
      }
     },
     "70719f52839b4561b3319fd829fe5178": {
      "model_module": "jupyter-matplotlib",
      "model_module_version": "^0.7.2",
      "model_name": "MPLCanvasModel",
      "state": {
       "_cursor": "default",
       "_figure_label": "Figure 80",
       "_height": 480,
       "_image_mode": "diff",
       "_message": "x=19284.6      y=4798.96     ",
       "_width": 640,
       "layout": "IPY_MODEL_5f11b4af67144a2399f6822c8678a0f8",
       "toolbar": "IPY_MODEL_26793637e344449bb3e53ad6d173c7f2",
       "toolbar_position": "left"
      }
     },
     "70950acbe8d94376ae42de1e997a5b84": {
      "model_module": "jupyter-matplotlib",
      "model_module_version": "^0.7.2",
      "model_name": "ToolbarModel",
      "state": {
       "layout": "IPY_MODEL_107db1b178034068b78890877d0a7047",
       "toolitems": [
        [
         "Home",
         "Reset original view",
         "home",
         "home"
        ],
        [
         "Back",
         "Back to previous view",
         "arrow-left",
         "back"
        ],
        [
         "Forward",
         "Forward to next view",
         "arrow-right",
         "forward"
        ],
        [
         "Pan",
         "Pan axes with left mouse, zoom with right",
         "arrows",
         "pan"
        ],
        [
         "Zoom",
         "Zoom to rectangle",
         "square-o",
         "zoom"
        ],
        [
         "Download",
         "Download plot",
         "floppy-o",
         "save_figure"
        ]
       ]
      }
     },
     "70b1f0d243ae4907884438c4e3762117": {
      "model_module": "jupyter-matplotlib",
      "model_module_version": "^0.7.2",
      "model_name": "ToolbarModel",
      "state": {
       "layout": "IPY_MODEL_4fc7444da7c04890a9f1627cb411c371",
       "toolitems": [
        [
         "Home",
         "Reset original view",
         "home",
         "home"
        ],
        [
         "Back",
         "Back to previous view",
         "arrow-left",
         "back"
        ],
        [
         "Forward",
         "Forward to next view",
         "arrow-right",
         "forward"
        ],
        [
         "Pan",
         "Pan axes with left mouse, zoom with right",
         "arrows",
         "pan"
        ],
        [
         "Zoom",
         "Zoom to rectangle",
         "square-o",
         "zoom"
        ],
        [
         "Download",
         "Download plot",
         "floppy-o",
         "save_figure"
        ]
       ]
      }
     },
     "70e569d238b94dd18e859eae5df85741": {
      "model_module": "@jupyter-widgets/base",
      "model_module_version": "1.2.0",
      "model_name": "LayoutModel",
      "state": {}
     },
     "7259f8e985db4d298c1a63ad57a5dde0": {
      "model_module": "@jupyter-widgets/base",
      "model_module_version": "1.2.0",
      "model_name": "LayoutModel",
      "state": {}
     },
     "737e89f53e3e44fcbd40d89d998837fd": {
      "model_module": "@jupyter-widgets/base",
      "model_module_version": "1.2.0",
      "model_name": "LayoutModel",
      "state": {}
     },
     "739684cc0f4143eeab79de1f01a3be35": {
      "model_module": "@jupyter-widgets/base",
      "model_module_version": "1.2.0",
      "model_name": "LayoutModel",
      "state": {}
     },
     "7467b0d6938b42de9b666538b25f4379": {
      "model_module": "@jupyter-widgets/base",
      "model_module_version": "1.2.0",
      "model_name": "LayoutModel",
      "state": {}
     },
     "7484448ad14d429098ecca9664fd2663": {
      "model_module": "@jupyter-widgets/base",
      "model_module_version": "1.2.0",
      "model_name": "LayoutModel",
      "state": {}
     },
     "754a3186504f48bbaf5eddea6cd98022": {
      "model_module": "@jupyter-widgets/base",
      "model_module_version": "1.2.0",
      "model_name": "LayoutModel",
      "state": {}
     },
     "7610d767a0a04f2abe2dda42a70f6bef": {
      "model_module": "jupyter-matplotlib",
      "model_module_version": "^0.7.2",
      "model_name": "ToolbarModel",
      "state": {
       "layout": "IPY_MODEL_c3fd22022e0b4bffb3acb8c6633f0e03",
       "toolitems": [
        [
         "Home",
         "Reset original view",
         "home",
         "home"
        ],
        [
         "Back",
         "Back to previous view",
         "arrow-left",
         "back"
        ],
        [
         "Forward",
         "Forward to next view",
         "arrow-right",
         "forward"
        ],
        [
         "Pan",
         "Pan axes with left mouse, zoom with right",
         "arrows",
         "pan"
        ],
        [
         "Zoom",
         "Zoom to rectangle",
         "square-o",
         "zoom"
        ],
        [
         "Download",
         "Download plot",
         "floppy-o",
         "save_figure"
        ]
       ]
      }
     },
     "76aff8a0070244a28d97d1514c2d0e17": {
      "model_module": "jupyter-matplotlib",
      "model_module_version": "^0.7.2",
      "model_name": "MPLCanvasModel",
      "state": {
       "_cursor": "default",
       "_figure_label": "Figure 29",
       "_height": 480,
       "_image_mode": "diff",
       "_message": "x=15673.6      y=2935.83     ",
       "_width": 640,
       "layout": "IPY_MODEL_ba87b4ecb6a648c8b3e58b2a7af6485a",
       "toolbar": "IPY_MODEL_9bc23d8ee43648a681a5a383be6c7a48",
       "toolbar_position": "left"
      }
     },
     "76bd4a2fbee64033a880f9721b8c9a92": {
      "model_module": "@jupyter-widgets/base",
      "model_module_version": "1.2.0",
      "model_name": "LayoutModel",
      "state": {}
     },
     "77302608da4c4d109fad8a89df32c693": {
      "model_module": "jupyter-matplotlib",
      "model_module_version": "^0.7.2",
      "model_name": "ToolbarModel",
      "state": {
       "layout": "IPY_MODEL_57d581a2cd0a443aa7131d676156e84b",
       "toolitems": [
        [
         "Home",
         "Reset original view",
         "home",
         "home"
        ],
        [
         "Back",
         "Back to previous view",
         "arrow-left",
         "back"
        ],
        [
         "Forward",
         "Forward to next view",
         "arrow-right",
         "forward"
        ],
        [
         "Pan",
         "Pan axes with left mouse, zoom with right",
         "arrows",
         "pan"
        ],
        [
         "Zoom",
         "Zoom to rectangle",
         "square-o",
         "zoom"
        ],
        [
         "Download",
         "Download plot",
         "floppy-o",
         "save_figure"
        ]
       ]
      }
     },
     "7731ab42cb3f401581080a8af6f825fe": {
      "model_module": "jupyter-matplotlib",
      "model_module_version": "^0.7.2",
      "model_name": "MPLCanvasModel",
      "state": {
       "_cursor": "default",
       "_figure_label": "Figure 44",
       "_height": 480,
       "_width": 640,
       "layout": "IPY_MODEL_ad42f074617b43baaefbf85a37a38697",
       "toolbar": "IPY_MODEL_fa800bc8722e486bb51d915c1d8b79bb",
       "toolbar_position": "left"
      }
     },
     "790f5b0a4bb3484c90a8147ebb99efb4": {
      "model_module": "@jupyter-widgets/controls",
      "model_module_version": "1.5.0",
      "model_name": "SliderStyleModel",
      "state": {
       "description_width": ""
      }
     },
     "79bc7cb99fed4d2b8dd66da0c655f877": {
      "model_module": "@jupyter-widgets/base",
      "model_module_version": "1.2.0",
      "model_name": "LayoutModel",
      "state": {}
     },
     "79f83900200c408ca833d82cc1000cd3": {
      "model_module": "jupyter-matplotlib",
      "model_module_version": "^0.7.2",
      "model_name": "MPLCanvasModel",
      "state": {
       "_cursor": "default",
       "_figure_label": "Figure 56",
       "_height": 480,
       "_width": 640,
       "layout": "IPY_MODEL_6a9cddcae6ca4900bab31562156bb350",
       "toolbar": "IPY_MODEL_4632de2da23c4022af787a1fdf6d9ef6",
       "toolbar_position": "left"
      }
     },
     "7ab17fe2fd2e404aad6df81cf9e21334": {
      "model_module": "@jupyter-widgets/base",
      "model_module_version": "1.2.0",
      "model_name": "LayoutModel",
      "state": {}
     },
     "7b023272c70249b7aa208b473858fff9": {
      "model_module": "jupyter-matplotlib",
      "model_module_version": "^0.7.2",
      "model_name": "ToolbarModel",
      "state": {
       "layout": "IPY_MODEL_185b1bc1129d4a5d8851ef1146f7f1d2",
       "toolitems": [
        [
         "Home",
         "Reset original view",
         "home",
         "home"
        ],
        [
         "Back",
         "Back to previous view",
         "arrow-left",
         "back"
        ],
        [
         "Forward",
         "Forward to next view",
         "arrow-right",
         "forward"
        ],
        [
         "Pan",
         "Pan axes with left mouse, zoom with right",
         "arrows",
         "pan"
        ],
        [
         "Zoom",
         "Zoom to rectangle",
         "square-o",
         "zoom"
        ],
        [
         "Download",
         "Download plot",
         "floppy-o",
         "save_figure"
        ]
       ]
      }
     },
     "7d51251eacd94b52b3bf2727010aa87a": {
      "model_module": "jupyter-matplotlib",
      "model_module_version": "^0.7.2",
      "model_name": "ToolbarModel",
      "state": {
       "layout": "IPY_MODEL_e9d82333e61c40c0a5339b94d7bb810f",
       "toolitems": [
        [
         "Home",
         "Reset original view",
         "home",
         "home"
        ],
        [
         "Back",
         "Back to previous view",
         "arrow-left",
         "back"
        ],
        [
         "Forward",
         "Forward to next view",
         "arrow-right",
         "forward"
        ],
        [
         "Pan",
         "Pan axes with left mouse, zoom with right",
         "arrows",
         "pan"
        ],
        [
         "Zoom",
         "Zoom to rectangle",
         "square-o",
         "zoom"
        ],
        [
         "Download",
         "Download plot",
         "floppy-o",
         "save_figure"
        ]
       ]
      }
     },
     "7d600129785541b2a13cbe659533ac62": {
      "model_module": "jupyter-matplotlib",
      "model_module_version": "^0.7.2",
      "model_name": "MPLCanvasModel",
      "state": {
       "_cursor": "default",
       "_figure_label": "Figure 23",
       "_height": 480,
       "_width": 640,
       "layout": "IPY_MODEL_b4900bd7ebb2410788d16b2aa49f9a64",
       "toolbar": "IPY_MODEL_cd62a083b805482c8a006b77731788b8",
       "toolbar_position": "left"
      }
     },
     "7d9815a7b8174939bd28fde494ace5cc": {
      "model_module": "@jupyter-widgets/base",
      "model_module_version": "1.2.0",
      "model_name": "LayoutModel",
      "state": {}
     },
     "7dcd497cc9664ce0bdd2d883c9b24c45": {
      "model_module": "@jupyter-widgets/base",
      "model_module_version": "1.2.0",
      "model_name": "LayoutModel",
      "state": {}
     },
     "7f3c94cecb59441db9ae6d9686839528": {
      "model_module": "@jupyter-widgets/base",
      "model_module_version": "1.2.0",
      "model_name": "LayoutModel",
      "state": {}
     },
     "80352b8d9b9542079a28e6d52a478e6b": {
      "model_module": "jupyter-matplotlib",
      "model_module_version": "^0.7.2",
      "model_name": "MPLCanvasModel",
      "state": {
       "_cursor": "default",
       "_figure_label": "Figure 52",
       "_height": 480,
       "_width": 640,
       "layout": "IPY_MODEL_0adf6d673e814db2ac7eb30b5baa2ad9",
       "toolbar": "IPY_MODEL_18d3e09f1bf3421393110780dccf473f",
       "toolbar_position": "left"
      }
     },
     "83635f3f850145fda25960eda93fcf7f": {
      "model_module": "jupyter-matplotlib",
      "model_module_version": "^0.7.2",
      "model_name": "MPLCanvasModel",
      "state": {
       "_cursor": "default",
       "_figure_label": "Figure 31",
       "_height": 480,
       "_width": 640,
       "layout": "IPY_MODEL_61036d89769b46e9a9f83bef330a3fe5",
       "toolbar": "IPY_MODEL_70950acbe8d94376ae42de1e997a5b84",
       "toolbar_position": "left"
      }
     },
     "83668baaec794a02a3519c5752bb0d7c": {
      "model_module": "@jupyter-widgets/base",
      "model_module_version": "1.2.0",
      "model_name": "LayoutModel",
      "state": {}
     },
     "841651058ff74be99f862afce57605c9": {
      "model_module": "jupyter-matplotlib",
      "model_module_version": "^0.7.2",
      "model_name": "MPLCanvasModel",
      "state": {
       "_cursor": "default",
       "_figure_label": "Figure 74",
       "_height": 480,
       "_message": "x=42990.1      y=542.914     ",
       "_width": 640,
       "layout": "IPY_MODEL_841e59256b094ea18858284b58f0d214",
       "toolbar": "IPY_MODEL_691561c4fdf54266a960b4b5fa1b90f8",
       "toolbar_position": "left"
      }
     },
     "841e59256b094ea18858284b58f0d214": {
      "model_module": "@jupyter-widgets/base",
      "model_module_version": "1.2.0",
      "model_name": "LayoutModel",
      "state": {}
     },
     "859cf64919eb46a0a64ee463a84c130d": {
      "model_module": "@jupyter-widgets/base",
      "model_module_version": "1.2.0",
      "model_name": "LayoutModel",
      "state": {}
     },
     "864ff63f6caa4284bc01cdfbbec4b95e": {
      "model_module": "@jupyter-widgets/base",
      "model_module_version": "1.2.0",
      "model_name": "LayoutModel",
      "state": {}
     },
     "87076fe2616942b7961e22f29176db36": {
      "model_module": "@jupyter-widgets/base",
      "model_module_version": "1.2.0",
      "model_name": "LayoutModel",
      "state": {}
     },
     "877a8e0f106b40d298d3f9cb393de42e": {
      "model_module": "@jupyter-widgets/base",
      "model_module_version": "1.2.0",
      "model_name": "LayoutModel",
      "state": {}
     },
     "8ae64b1f131940038acfb9ef52900d0d": {
      "model_module": "jupyter-matplotlib",
      "model_module_version": "^0.7.2",
      "model_name": "MPLCanvasModel",
      "state": {
       "_cursor": "default",
       "_figure_label": "Figure 68",
       "_height": 480,
       "_image_mode": "diff",
       "_width": 640,
       "layout": "IPY_MODEL_12f48e73004143b38acf2c1a448418fb",
       "toolbar": "IPY_MODEL_f624017d80a449e28b5b9077e91ea2fc",
       "toolbar_position": "left"
      }
     },
     "8b08d4b601004a08b0eeb977a68c4dc4": {
      "model_module": "jupyter-matplotlib",
      "model_module_version": "^0.7.2",
      "model_name": "MPLCanvasModel",
      "state": {
       "layout": "IPY_MODEL_f0352db9ba904dd1a6f7a19a303f1a20",
       "toolbar": "IPY_MODEL_f1eef93a563543d78190572bd338c390",
       "toolbar_position": "left"
      }
     },
     "8b423ac4ba9746a8a39a8f984b1b4fa0": {
      "model_module": "jupyter-matplotlib",
      "model_module_version": "^0.7.2",
      "model_name": "ToolbarModel",
      "state": {
       "layout": "IPY_MODEL_639debaccd8d4cceb97e93d9a0ca7bb3",
       "toolitems": [
        [
         "Home",
         "Reset original view",
         "home",
         "home"
        ],
        [
         "Back",
         "Back to previous view",
         "arrow-left",
         "back"
        ],
        [
         "Forward",
         "Forward to next view",
         "arrow-right",
         "forward"
        ],
        [
         "Pan",
         "Pan axes with left mouse, zoom with right",
         "arrows",
         "pan"
        ],
        [
         "Zoom",
         "Zoom to rectangle",
         "square-o",
         "zoom"
        ],
        [
         "Download",
         "Download plot",
         "floppy-o",
         "save_figure"
        ]
       ]
      }
     },
     "8b4fb6227f8a4937a39d92d6ab2f4c70": {
      "model_module": "jupyter-matplotlib",
      "model_module_version": "^0.7.2",
      "model_name": "MPLCanvasModel",
      "state": {
       "_cursor": "default",
       "_figure_label": "Figure 6",
       "_height": 480,
       "_image_mode": "diff",
       "_width": 640,
       "layout": "IPY_MODEL_70e569d238b94dd18e859eae5df85741",
       "toolbar": "IPY_MODEL_b23996430b1a472ca8b97f3be1d289b7",
       "toolbar_position": "left"
      }
     },
     "8bb3810d1aac48dfb02346d8660c619f": {
      "model_module": "jupyter-matplotlib",
      "model_module_version": "^0.7.2",
      "model_name": "ToolbarModel",
      "state": {
       "layout": "IPY_MODEL_f280692ed5734a558bb303f55b6f0646",
       "toolitems": [
        [
         "Home",
         "Reset original view",
         "home",
         "home"
        ],
        [
         "Back",
         "Back to previous view",
         "arrow-left",
         "back"
        ],
        [
         "Forward",
         "Forward to next view",
         "arrow-right",
         "forward"
        ],
        [
         "Pan",
         "Pan axes with left mouse, zoom with right",
         "arrows",
         "pan"
        ],
        [
         "Zoom",
         "Zoom to rectangle",
         "square-o",
         "zoom"
        ],
        [
         "Download",
         "Download plot",
         "floppy-o",
         "save_figure"
        ]
       ]
      }
     },
     "8bf8eb80942b418aa59dff2ed84012ad": {
      "model_module": "jupyter-matplotlib",
      "model_module_version": "^0.7.2",
      "model_name": "ToolbarModel",
      "state": {
       "layout": "IPY_MODEL_737e89f53e3e44fcbd40d89d998837fd",
       "toolitems": [
        [
         "Home",
         "Reset original view",
         "home",
         "home"
        ],
        [
         "Back",
         "Back to previous view",
         "arrow-left",
         "back"
        ],
        [
         "Forward",
         "Forward to next view",
         "arrow-right",
         "forward"
        ],
        [
         "Pan",
         "Pan axes with left mouse, zoom with right",
         "arrows",
         "pan"
        ],
        [
         "Zoom",
         "Zoom to rectangle",
         "square-o",
         "zoom"
        ],
        [
         "Download",
         "Download plot",
         "floppy-o",
         "save_figure"
        ]
       ]
      }
     },
     "8c6b0db249e940a68cc4e6f240bd9182": {
      "model_module": "jupyter-matplotlib",
      "model_module_version": "^0.7.2",
      "model_name": "ToolbarModel",
      "state": {
       "layout": "IPY_MODEL_4e5053d9350a4cf5a9c5fefb2cc8c6f3",
       "toolitems": [
        [
         "Home",
         "Reset original view",
         "home",
         "home"
        ],
        [
         "Back",
         "Back to previous view",
         "arrow-left",
         "back"
        ],
        [
         "Forward",
         "Forward to next view",
         "arrow-right",
         "forward"
        ],
        [
         "Pan",
         "Pan axes with left mouse, zoom with right",
         "arrows",
         "pan"
        ],
        [
         "Zoom",
         "Zoom to rectangle",
         "square-o",
         "zoom"
        ],
        [
         "Download",
         "Download plot",
         "floppy-o",
         "save_figure"
        ]
       ]
      }
     },
     "8cb06592e2eb4c059073a2d6b41453c0": {
      "model_module": "@jupyter-widgets/base",
      "model_module_version": "1.2.0",
      "model_name": "LayoutModel",
      "state": {}
     },
     "8cb7914374ed4c61931ff35d26d193c5": {
      "model_module": "jupyter-matplotlib",
      "model_module_version": "^0.7.2",
      "model_name": "ToolbarModel",
      "state": {
       "layout": "IPY_MODEL_52b10c5648b944a78d9c79efb258c76a",
       "toolitems": [
        [
         "Home",
         "Reset original view",
         "home",
         "home"
        ],
        [
         "Back",
         "Back to previous view",
         "arrow-left",
         "back"
        ],
        [
         "Forward",
         "Forward to next view",
         "arrow-right",
         "forward"
        ],
        [
         "Pan",
         "Pan axes with left mouse, zoom with right",
         "arrows",
         "pan"
        ],
        [
         "Zoom",
         "Zoom to rectangle",
         "square-o",
         "zoom"
        ],
        [
         "Download",
         "Download plot",
         "floppy-o",
         "save_figure"
        ]
       ]
      }
     },
     "8d0c808b49c24ea4a6444e26cc16af6a": {
      "model_module": "jupyter-matplotlib",
      "model_module_version": "^0.7.2",
      "model_name": "ToolbarModel",
      "state": {
       "layout": "IPY_MODEL_ac932887b06d400aacc5362a2ebc0972",
       "toolitems": [
        [
         "Home",
         "Reset original view",
         "home",
         "home"
        ],
        [
         "Back",
         "Back to previous view",
         "arrow-left",
         "back"
        ],
        [
         "Forward",
         "Forward to next view",
         "arrow-right",
         "forward"
        ],
        [
         "Pan",
         "Pan axes with left mouse, zoom with right",
         "arrows",
         "pan"
        ],
        [
         "Zoom",
         "Zoom to rectangle",
         "square-o",
         "zoom"
        ],
        [
         "Download",
         "Download plot",
         "floppy-o",
         "save_figure"
        ]
       ]
      }
     },
     "8d62c99893d24d0fbbeea7c95da591e2": {
      "model_module": "@jupyter-widgets/base",
      "model_module_version": "1.2.0",
      "model_name": "LayoutModel",
      "state": {}
     },
     "8dfff63207aa41e9a76ca866417b430a": {
      "model_module": "@jupyter-widgets/base",
      "model_module_version": "1.2.0",
      "model_name": "LayoutModel",
      "state": {}
     },
     "8e088e950fc24b939fe1b7456216382b": {
      "model_module": "@jupyter-widgets/base",
      "model_module_version": "1.2.0",
      "model_name": "LayoutModel",
      "state": {}
     },
     "8e606024dbea491ba7ac18c432146503": {
      "model_module": "@jupyter-widgets/base",
      "model_module_version": "1.2.0",
      "model_name": "LayoutModel",
      "state": {}
     },
     "8e8e95db99d84e388bd2c31f4d7ee521": {
      "model_module": "jupyter-matplotlib",
      "model_module_version": "^0.7.2",
      "model_name": "MPLCanvasModel",
      "state": {
       "_cursor": "default",
       "_figure_label": "Figure 67",
       "_height": 480,
       "_image_mode": "diff",
       "_message": "x=8562.7       y=2920.9      ",
       "_width": 640,
       "layout": "IPY_MODEL_c3730a7f20074f33a520723bf3a1f2ea",
       "toolbar": "IPY_MODEL_d93e572d340a44deb255269322003ff8",
       "toolbar_position": "left"
      }
     },
     "8eb2d363eed54dfb8823af6ecba1c6c7": {
      "model_module": "@jupyter-widgets/base",
      "model_module_version": "1.2.0",
      "model_name": "LayoutModel",
      "state": {}
     },
     "8ee98133fe9846ca82e68a945910b580": {
      "model_module": "jupyter-matplotlib",
      "model_module_version": "^0.7.2",
      "model_name": "ToolbarModel",
      "state": {
       "layout": "IPY_MODEL_8d62c99893d24d0fbbeea7c95da591e2",
       "toolitems": [
        [
         "Home",
         "Reset original view",
         "home",
         "home"
        ],
        [
         "Back",
         "Back to previous view",
         "arrow-left",
         "back"
        ],
        [
         "Forward",
         "Forward to next view",
         "arrow-right",
         "forward"
        ],
        [
         "Pan",
         "Pan axes with left mouse, zoom with right",
         "arrows",
         "pan"
        ],
        [
         "Zoom",
         "Zoom to rectangle",
         "square-o",
         "zoom"
        ],
        [
         "Download",
         "Download plot",
         "floppy-o",
         "save_figure"
        ]
       ]
      }
     },
     "8f00556ff9fe450c92471e720ea69cca": {
      "model_module": "@jupyter-widgets/base",
      "model_module_version": "1.2.0",
      "model_name": "LayoutModel",
      "state": {}
     },
     "8feeec1eeefb48128a89f29874c99abd": {
      "model_module": "@jupyter-widgets/base",
      "model_module_version": "1.2.0",
      "model_name": "LayoutModel",
      "state": {}
     },
     "901a3f8079064103801a47514f02a028": {
      "model_module": "@jupyter-widgets/base",
      "model_module_version": "1.2.0",
      "model_name": "LayoutModel",
      "state": {}
     },
     "909dbfd483354f5cba6470a279f64c44": {
      "model_module": "jupyter-matplotlib",
      "model_module_version": "^0.7.2",
      "model_name": "MPLCanvasModel",
      "state": {
       "_cursor": "default",
       "_figure_label": "Figure 39",
       "_height": 480,
       "_image_mode": "diff",
       "_message": "x=1358 y=35760.7     ",
       "_width": 640,
       "layout": "IPY_MODEL_fd53db7256004ce89776687a62c16fcc",
       "toolbar": "IPY_MODEL_52e68dcb050b4c38939408708564ddac",
       "toolbar_position": "left"
      }
     },
     "913ac5dbae114554ac88fbaa209b58f8": {
      "model_module": "jupyter-matplotlib",
      "model_module_version": "^0.7.2",
      "model_name": "MPLCanvasModel",
      "state": {
       "_cursor": "default",
       "_figure_label": "Figure 65",
       "_height": 480,
       "_width": 640,
       "layout": "IPY_MODEL_d0cdf6a1c80b4978b80e0522a4d332d8",
       "toolbar": "IPY_MODEL_11bc18ad4a6e471685a9791e36ad99d7",
       "toolbar_position": "left"
      }
     },
     "922658e7f8c24ebead8861bcfbec2354": {
      "model_module": "jupyter-matplotlib",
      "model_module_version": "^0.7.2",
      "model_name": "MPLCanvasModel",
      "state": {
       "_cursor": "default",
       "_figure_label": "Figure 81",
       "_height": 480,
       "_image_mode": "diff",
       "_message": "x=355.113      y=74.7631     ",
       "_width": 640,
       "layout": "IPY_MODEL_2389ed446c544fb5b96ec36ff41bb2cc",
       "toolbar": "IPY_MODEL_8d0c808b49c24ea4a6444e26cc16af6a",
       "toolbar_position": "left"
      }
     },
     "92c8812a6d0546f78759acc9f53b7d20": {
      "model_module": "jupyter-matplotlib",
      "model_module_version": "^0.7.2",
      "model_name": "MPLCanvasModel",
      "state": {
       "_cursor": "default",
       "_figure_label": "Figure 60",
       "_height": 480,
       "_width": 640,
       "layout": "IPY_MODEL_c632ca6692e54fe982579164fdc69ee5",
       "toolbar": "IPY_MODEL_cbb1f9806ad644de9ce270c87e555c5c",
       "toolbar_position": "left"
      }
     },
     "93b7df9b80a04f2e8e06da1951b1b623": {
      "model_module": "jupyter-matplotlib",
      "model_module_version": "^0.7.2",
      "model_name": "MPLCanvasModel",
      "state": {
       "_cursor": "default",
       "_figure_label": "Figure 59",
       "_height": 480,
       "_image_mode": "diff",
       "_width": 640,
       "layout": "IPY_MODEL_2a009f3d40e943758e6a4dfdef2dfd76",
       "toolbar": "IPY_MODEL_6ac371d8f91d423f98e91fb51d2bf1f4",
       "toolbar_position": "left"
      }
     },
     "94697ba9573248dc8cd47f42a4b2e136": {
      "model_module": "jupyter-matplotlib",
      "model_module_version": "^0.7.2",
      "model_name": "ToolbarModel",
      "state": {
       "layout": "IPY_MODEL_ba42b6e026c54f699067f2c460bb7460",
       "toolitems": [
        [
         "Home",
         "Reset original view",
         "home",
         "home"
        ],
        [
         "Back",
         "Back to previous view",
         "arrow-left",
         "back"
        ],
        [
         "Forward",
         "Forward to next view",
         "arrow-right",
         "forward"
        ],
        [
         "Pan",
         "Pan axes with left mouse, zoom with right",
         "arrows",
         "pan"
        ],
        [
         "Zoom",
         "Zoom to rectangle",
         "square-o",
         "zoom"
        ],
        [
         "Download",
         "Download plot",
         "floppy-o",
         "save_figure"
        ]
       ]
      }
     },
     "94799c8ab4824d41afcdaf695d5dc6f2": {
      "model_module": "@jupyter-widgets/base",
      "model_module_version": "1.2.0",
      "model_name": "LayoutModel",
      "state": {}
     },
     "948639f2d2a0402c9310f428bfaba2a1": {
      "model_module": "@jupyter-widgets/base",
      "model_module_version": "1.2.0",
      "model_name": "LayoutModel",
      "state": {}
     },
     "952fa657c5d44690ab4d3e5944ee5349": {
      "model_module": "@jupyter-widgets/base",
      "model_module_version": "1.2.0",
      "model_name": "LayoutModel",
      "state": {}
     },
     "95f8fb2b61374f8a8aa9ea698f2c0269": {
      "model_module": "@jupyter-widgets/base",
      "model_module_version": "1.2.0",
      "model_name": "LayoutModel",
      "state": {}
     },
     "9629162df0064481b286940e4dc8bbcd": {
      "model_module": "jupyter-matplotlib",
      "model_module_version": "^0.7.2",
      "model_name": "ToolbarModel",
      "state": {
       "layout": "IPY_MODEL_212279fdad7c46b7bc9b2b7dedaf3a72",
       "toolitems": [
        [
         "Home",
         "Reset original view",
         "home",
         "home"
        ],
        [
         "Back",
         "Back to previous view",
         "arrow-left",
         "back"
        ],
        [
         "Forward",
         "Forward to next view",
         "arrow-right",
         "forward"
        ],
        [
         "Pan",
         "Pan axes with left mouse, zoom with right",
         "arrows",
         "pan"
        ],
        [
         "Zoom",
         "Zoom to rectangle",
         "square-o",
         "zoom"
        ],
        [
         "Download",
         "Download plot",
         "floppy-o",
         "save_figure"
        ]
       ]
      }
     },
     "96e5f2b31bf745f783754d628385f669": {
      "model_module": "@jupyter-widgets/base",
      "model_module_version": "1.2.0",
      "model_name": "LayoutModel",
      "state": {}
     },
     "98806e8aa31a4af29f9e2b71d8e3440c": {
      "model_module": "jupyter-matplotlib",
      "model_module_version": "^0.7.2",
      "model_name": "MPLCanvasModel",
      "state": {
       "_cursor": "default",
       "_figure_label": "Figure 33",
       "_height": 480,
       "_image_mode": "diff",
       "_width": 640,
       "layout": "IPY_MODEL_27710b6fa7d2401298b87c3327fd4363",
       "toolbar": "IPY_MODEL_b4e085bf25044768906b7567ba500c6c",
       "toolbar_position": "left"
      }
     },
     "99174ab2771b4aa08ad060abb964555f": {
      "model_module": "@jupyter-widgets/base",
      "model_module_version": "1.2.0",
      "model_name": "LayoutModel",
      "state": {}
     },
     "994e0b27817d475985b0820373650fc5": {
      "model_module": "@jupyter-widgets/base",
      "model_module_version": "1.2.0",
      "model_name": "LayoutModel",
      "state": {}
     },
     "9bc23d8ee43648a681a5a383be6c7a48": {
      "model_module": "jupyter-matplotlib",
      "model_module_version": "^0.7.2",
      "model_name": "ToolbarModel",
      "state": {
       "layout": "IPY_MODEL_e47c94c4c8ab41da9d21fc176cf95352",
       "toolitems": [
        [
         "Home",
         "Reset original view",
         "home",
         "home"
        ],
        [
         "Back",
         "Back to previous view",
         "arrow-left",
         "back"
        ],
        [
         "Forward",
         "Forward to next view",
         "arrow-right",
         "forward"
        ],
        [
         "Pan",
         "Pan axes with left mouse, zoom with right",
         "arrows",
         "pan"
        ],
        [
         "Zoom",
         "Zoom to rectangle",
         "square-o",
         "zoom"
        ],
        [
         "Download",
         "Download plot",
         "floppy-o",
         "save_figure"
        ]
       ]
      }
     },
     "9c2497ab27844eb9b5317bfecafb6171": {
      "model_module": "@jupyter-widgets/base",
      "model_module_version": "1.2.0",
      "model_name": "LayoutModel",
      "state": {}
     },
     "9d6391909a674470a69c0c832cd1061f": {
      "model_module": "@jupyter-widgets/base",
      "model_module_version": "1.2.0",
      "model_name": "LayoutModel",
      "state": {}
     },
     "9ed35ec7789a43d9a28d83df78723d1c": {
      "model_module": "jupyter-matplotlib",
      "model_module_version": "^0.7.2",
      "model_name": "ToolbarModel",
      "state": {
       "layout": "IPY_MODEL_952fa657c5d44690ab4d3e5944ee5349",
       "toolitems": [
        [
         "Home",
         "Reset original view",
         "home",
         "home"
        ],
        [
         "Back",
         "Back to previous view",
         "arrow-left",
         "back"
        ],
        [
         "Forward",
         "Forward to next view",
         "arrow-right",
         "forward"
        ],
        [
         "Pan",
         "Pan axes with left mouse, zoom with right",
         "arrows",
         "pan"
        ],
        [
         "Zoom",
         "Zoom to rectangle",
         "square-o",
         "zoom"
        ],
        [
         "Download",
         "Download plot",
         "floppy-o",
         "save_figure"
        ]
       ]
      }
     },
     "9f36b4bd20d44051924383999370949f": {
      "model_module": "@jupyter-widgets/base",
      "model_module_version": "1.2.0",
      "model_name": "LayoutModel",
      "state": {}
     },
     "a0232402d0f4467fbd7502c1fd282758": {
      "model_module": "jupyter-matplotlib",
      "model_module_version": "^0.7.2",
      "model_name": "ToolbarModel",
      "state": {
       "layout": "IPY_MODEL_1bdb17a49cd5408295a343d6e4c4bca0",
       "toolitems": [
        [
         "Home",
         "Reset original view",
         "home",
         "home"
        ],
        [
         "Back",
         "Back to previous view",
         "arrow-left",
         "back"
        ],
        [
         "Forward",
         "Forward to next view",
         "arrow-right",
         "forward"
        ],
        [
         "Pan",
         "Pan axes with left mouse, zoom with right",
         "arrows",
         "pan"
        ],
        [
         "Zoom",
         "Zoom to rectangle",
         "square-o",
         "zoom"
        ],
        [
         "Download",
         "Download plot",
         "floppy-o",
         "save_figure"
        ]
       ]
      }
     },
     "a03b14dbb35b43c09b7af138eb5408b9": {
      "model_module": "jupyter-matplotlib",
      "model_module_version": "^0.7.2",
      "model_name": "MPLCanvasModel",
      "state": {
       "_cursor": "default",
       "_figure_label": "Figure 22",
       "_height": 480,
       "_image_mode": "diff",
       "_width": 640,
       "layout": "IPY_MODEL_09934745e8d245c2b1c5bcf76df28b96",
       "toolbar": "IPY_MODEL_1ecef9539e4345e6994dbc668dbe5191",
       "toolbar_position": "left"
      }
     },
     "a0d4ab1f608548e0b82182f83beab476": {
      "model_module": "@jupyter-widgets/controls",
      "model_module_version": "1.5.0",
      "model_name": "SliderStyleModel",
      "state": {
       "description_width": ""
      }
     },
     "a1708fd9b1034cda9802b8a23529234e": {
      "model_module": "@jupyter-widgets/base",
      "model_module_version": "1.2.0",
      "model_name": "LayoutModel",
      "state": {}
     },
     "a2dd37f64a944683b0d974aada38da80": {
      "model_module": "@jupyter-widgets/base",
      "model_module_version": "1.2.0",
      "model_name": "LayoutModel",
      "state": {}
     },
     "a43f023faa0a4112a116d60ce767a55a": {
      "model_module": "@jupyter-widgets/base",
      "model_module_version": "1.2.0",
      "model_name": "LayoutModel",
      "state": {}
     },
     "a4803d262544451383950694deb6495e": {
      "model_module": "@jupyter-widgets/base",
      "model_module_version": "1.2.0",
      "model_name": "LayoutModel",
      "state": {}
     },
     "a4e1f3688e324bdca74030eb035cb7cf": {
      "model_module": "@jupyter-widgets/base",
      "model_module_version": "1.2.0",
      "model_name": "LayoutModel",
      "state": {}
     },
     "a5515f634a1b4c63bc6a19df11df8134": {
      "model_module": "jupyter-matplotlib",
      "model_module_version": "^0.7.2",
      "model_name": "MPLCanvasModel",
      "state": {
       "_cursor": "default",
       "_figure_label": "Figure 4",
       "_height": 480,
       "_image_mode": "diff",
       "_width": 640,
       "layout": "IPY_MODEL_87076fe2616942b7961e22f29176db36",
       "toolbar": "IPY_MODEL_bc93169ff63c4e219d71088e713c8482",
       "toolbar_position": "left"
      }
     },
     "a9bc311082194f1687720143b802663f": {
      "model_module": "@jupyter-widgets/base",
      "model_module_version": "1.2.0",
      "model_name": "LayoutModel",
      "state": {}
     },
     "a9eb9f12ab49423790099bb2507bc8cf": {
      "model_module": "jupyter-matplotlib",
      "model_module_version": "^0.7.2",
      "model_name": "MPLCanvasModel",
      "state": {
       "_cursor": "default",
       "_figure_label": "Figure 82",
       "_height": 480,
       "_width": 640,
       "layout": "IPY_MODEL_1220d581d47f4846a03834dc8461f815",
       "toolbar": "IPY_MODEL_7b023272c70249b7aa208b473858fff9",
       "toolbar_position": "left"
      }
     },
     "ab8e8ed85cab4337b086a1193ca55dee": {
      "model_module": "jupyter-matplotlib",
      "model_module_version": "^0.7.2",
      "model_name": "MPLCanvasModel",
      "state": {
       "_cursor": "default",
       "_figure_label": "Figure 79",
       "_height": 480,
       "_width": 640,
       "layout": "IPY_MODEL_e02c2c90919642ec9595fb93a96cd0ff",
       "toolbar": "IPY_MODEL_9629162df0064481b286940e4dc8bbcd",
       "toolbar_position": "left"
      }
     },
     "abcfd04e779d4a65a88b0c1f8c21a9df": {
      "model_module": "@jupyter-widgets/base",
      "model_module_version": "1.2.0",
      "model_name": "LayoutModel",
      "state": {}
     },
     "abd698103be14ca9b09711ca9222c81e": {
      "model_module": "jupyter-matplotlib",
      "model_module_version": "^0.7.2",
      "model_name": "ToolbarModel",
      "state": {
       "layout": "IPY_MODEL_119de0a3fe3a4ac4a25ba5894c0d3c60",
       "toolitems": [
        [
         "Home",
         "Reset original view",
         "home",
         "home"
        ],
        [
         "Back",
         "Back to previous view",
         "arrow-left",
         "back"
        ],
        [
         "Forward",
         "Forward to next view",
         "arrow-right",
         "forward"
        ],
        [
         "Pan",
         "Pan axes with left mouse, zoom with right",
         "arrows",
         "pan"
        ],
        [
         "Zoom",
         "Zoom to rectangle",
         "square-o",
         "zoom"
        ],
        [
         "Download",
         "Download plot",
         "floppy-o",
         "save_figure"
        ]
       ]
      }
     },
     "ac932887b06d400aacc5362a2ebc0972": {
      "model_module": "@jupyter-widgets/base",
      "model_module_version": "1.2.0",
      "model_name": "LayoutModel",
      "state": {}
     },
     "ad42f074617b43baaefbf85a37a38697": {
      "model_module": "@jupyter-widgets/base",
      "model_module_version": "1.2.0",
      "model_name": "LayoutModel",
      "state": {}
     },
     "ad6212f5e2fc4988ba264914b7a07854": {
      "model_module": "@jupyter-widgets/controls",
      "model_module_version": "1.5.0",
      "model_name": "IntSliderModel",
      "state": {
       "description": "Days",
       "layout": "IPY_MODEL_1ab5e77b989345e287a011353f342e10",
       "max": 40,
       "style": "IPY_MODEL_2696e1f3d35e4519a37a60989821117f"
      }
     },
     "af8ecf3190964ac4b0a1692a3f3fc88f": {
      "model_module": "@jupyter-widgets/base",
      "model_module_version": "1.2.0",
      "model_name": "LayoutModel",
      "state": {}
     },
     "afa6254be7914000a7976be3269db1cd": {
      "model_module": "jupyter-matplotlib",
      "model_module_version": "^0.7.2",
      "model_name": "MPLCanvasModel",
      "state": {
       "_cursor": "default",
       "_figure_label": "Figure 85",
       "_height": 480,
       "_image_mode": "diff",
       "_width": 640,
       "layout": "IPY_MODEL_ebc4ca5cd2cb4f7a9841727ac27be0ad",
       "toolbar": "IPY_MODEL_e4347091324a4298aa1c071cbbc80690",
       "toolbar_position": "left"
      }
     },
     "b028d11796694c35a2937b965f10d498": {
      "model_module": "jupyter-matplotlib",
      "model_module_version": "^0.7.2",
      "model_name": "MPLCanvasModel",
      "state": {
       "_cursor": "default",
       "_figure_label": "Figure 43",
       "_height": 480,
       "_image_mode": "diff",
       "_width": 640,
       "layout": "IPY_MODEL_ef78a9d084274cc7b83bd73c59ec31b2",
       "toolbar": "IPY_MODEL_c125ba07ffe641dfade5f126234134a0",
       "toolbar_position": "left"
      }
     },
     "b111a6a9f2704b5b899adcbb5ced1efe": {
      "model_module": "jupyter-matplotlib",
      "model_module_version": "^0.7.2",
      "model_name": "MPLCanvasModel",
      "state": {
       "_cursor": "default",
       "_figure_label": "Figure 36",
       "_height": 480,
       "_width": 640,
       "layout": "IPY_MODEL_c6d30cf2277546f0ba26c15ea77ae9f2",
       "toolbar": "IPY_MODEL_b67b9efb792b40b390114331c58576a5",
       "toolbar_position": "left"
      }
     },
     "b12a4c6ec475453b9b4cfcb31748cc52": {
      "model_module": "jupyter-matplotlib",
      "model_module_version": "^0.7.2",
      "model_name": "ToolbarModel",
      "state": {
       "layout": "IPY_MODEL_06edce1350b345629469e1507ea51d3e",
       "toolitems": [
        [
         "Home",
         "Reset original view",
         "home",
         "home"
        ],
        [
         "Back",
         "Back to previous view",
         "arrow-left",
         "back"
        ],
        [
         "Forward",
         "Forward to next view",
         "arrow-right",
         "forward"
        ],
        [
         "Pan",
         "Pan axes with left mouse, zoom with right",
         "arrows",
         "pan"
        ],
        [
         "Zoom",
         "Zoom to rectangle",
         "square-o",
         "zoom"
        ],
        [
         "Download",
         "Download plot",
         "floppy-o",
         "save_figure"
        ]
       ]
      }
     },
     "b14d4b706768498aacd06feffdcff0ea": {
      "model_module": "jupyter-matplotlib",
      "model_module_version": "^0.7.2",
      "model_name": "ToolbarModel",
      "state": {
       "layout": "IPY_MODEL_877a8e0f106b40d298d3f9cb393de42e",
       "toolitems": [
        [
         "Home",
         "Reset original view",
         "home",
         "home"
        ],
        [
         "Back",
         "Back to previous view",
         "arrow-left",
         "back"
        ],
        [
         "Forward",
         "Forward to next view",
         "arrow-right",
         "forward"
        ],
        [
         "Pan",
         "Pan axes with left mouse, zoom with right",
         "arrows",
         "pan"
        ],
        [
         "Zoom",
         "Zoom to rectangle",
         "square-o",
         "zoom"
        ],
        [
         "Download",
         "Download plot",
         "floppy-o",
         "save_figure"
        ]
       ]
      }
     },
     "b23996430b1a472ca8b97f3be1d289b7": {
      "model_module": "jupyter-matplotlib",
      "model_module_version": "^0.7.2",
      "model_name": "ToolbarModel",
      "state": {
       "layout": "IPY_MODEL_49ac841b9cdb46409d419fa06168f66a",
       "toolitems": [
        [
         "Home",
         "Reset original view",
         "home",
         "home"
        ],
        [
         "Back",
         "Back to previous view",
         "arrow-left",
         "back"
        ],
        [
         "Forward",
         "Forward to next view",
         "arrow-right",
         "forward"
        ],
        [
         "Pan",
         "Pan axes with left mouse, zoom with right",
         "arrows",
         "pan"
        ],
        [
         "Zoom",
         "Zoom to rectangle",
         "square-o",
         "zoom"
        ],
        [
         "Download",
         "Download plot",
         "floppy-o",
         "save_figure"
        ]
       ]
      }
     },
     "b4900bd7ebb2410788d16b2aa49f9a64": {
      "model_module": "@jupyter-widgets/base",
      "model_module_version": "1.2.0",
      "model_name": "LayoutModel",
      "state": {}
     },
     "b4e085bf25044768906b7567ba500c6c": {
      "model_module": "jupyter-matplotlib",
      "model_module_version": "^0.7.2",
      "model_name": "ToolbarModel",
      "state": {
       "layout": "IPY_MODEL_67f08d185e3d4ca0acf8b956417e6bb2",
       "toolitems": [
        [
         "Home",
         "Reset original view",
         "home",
         "home"
        ],
        [
         "Back",
         "Back to previous view",
         "arrow-left",
         "back"
        ],
        [
         "Forward",
         "Forward to next view",
         "arrow-right",
         "forward"
        ],
        [
         "Pan",
         "Pan axes with left mouse, zoom with right",
         "arrows",
         "pan"
        ],
        [
         "Zoom",
         "Zoom to rectangle",
         "square-o",
         "zoom"
        ],
        [
         "Download",
         "Download plot",
         "floppy-o",
         "save_figure"
        ]
       ]
      }
     },
     "b5fb147f6c00497bb48e4d4466ffdea8": {
      "model_module": "@jupyter-widgets/base",
      "model_module_version": "1.2.0",
      "model_name": "LayoutModel",
      "state": {}
     },
     "b6252ac58a9c4f28a0a81f73d59939e6": {
      "model_module": "@jupyter-widgets/base",
      "model_module_version": "1.2.0",
      "model_name": "LayoutModel",
      "state": {}
     },
     "b675b8b405fa417d9dfaec1aaa385ce2": {
      "model_module": "jupyter-matplotlib",
      "model_module_version": "^0.7.2",
      "model_name": "MPLCanvasModel",
      "state": {
       "_cursor": "default",
       "_figure_label": "Figure 8",
       "_height": 480,
       "_image_mode": "diff",
       "_width": 640,
       "layout": "IPY_MODEL_2281ebcf72774e41a47ec3f9c94523f6",
       "toolbar": "IPY_MODEL_e39a61fac18c4a96a599fab75972da07",
       "toolbar_position": "left"
      }
     },
     "b67b9efb792b40b390114331c58576a5": {
      "model_module": "jupyter-matplotlib",
      "model_module_version": "^0.7.2",
      "model_name": "ToolbarModel",
      "state": {
       "layout": "IPY_MODEL_76bd4a2fbee64033a880f9721b8c9a92",
       "toolitems": [
        [
         "Home",
         "Reset original view",
         "home",
         "home"
        ],
        [
         "Back",
         "Back to previous view",
         "arrow-left",
         "back"
        ],
        [
         "Forward",
         "Forward to next view",
         "arrow-right",
         "forward"
        ],
        [
         "Pan",
         "Pan axes with left mouse, zoom with right",
         "arrows",
         "pan"
        ],
        [
         "Zoom",
         "Zoom to rectangle",
         "square-o",
         "zoom"
        ],
        [
         "Download",
         "Download plot",
         "floppy-o",
         "save_figure"
        ]
       ]
      }
     },
     "b6bd7fe2e3b14bd990892dd9deea7988": {
      "model_module": "jupyter-matplotlib",
      "model_module_version": "^0.7.2",
      "model_name": "MPLCanvasModel",
      "state": {
       "_cursor": "default",
       "_figure_label": "Figure 55",
       "_height": 480,
       "_image_mode": "diff",
       "_width": 640,
       "layout": "IPY_MODEL_4c6f73bfc14d4ebda3ca34759d03cad7",
       "toolbar": "IPY_MODEL_61025785e0cd4994a2407c04332f5def",
       "toolbar_position": "left"
      }
     },
     "b6e173dcabdd4bd38ddb7cadc3983203": {
      "model_module": "jupyter-matplotlib",
      "model_module_version": "^0.7.2",
      "model_name": "MPLCanvasModel",
      "state": {
       "layout": "IPY_MODEL_e67dae0366324cc7a6e8cfd0129fc1e1",
       "toolbar": "IPY_MODEL_1638f03f125345c1a1a33ba21a55b7ad",
       "toolbar_position": "left"
      }
     },
     "b73ebb486b38405fba033003b1d731f4": {
      "model_module": "jupyter-matplotlib",
      "model_module_version": "^0.7.2",
      "model_name": "MPLCanvasModel",
      "state": {
       "_cursor": "default",
       "_figure_label": "Figure 37",
       "_height": 480,
       "_width": 640,
       "layout": "IPY_MODEL_17fcd7c198ad4517a1ae3fb59c0b52e8",
       "toolbar": "IPY_MODEL_94697ba9573248dc8cd47f42a4b2e136",
       "toolbar_position": "left"
      }
     },
     "b77571d7a07d48fdb99f55609d978721": {
      "model_module": "jupyter-matplotlib",
      "model_module_version": "^0.7.2",
      "model_name": "MPLCanvasModel",
      "state": {
       "_cursor": "default",
       "_figure_label": "Figure 88",
       "_height": 480,
       "_image_mode": "diff",
       "_width": 640,
       "layout": "IPY_MODEL_b5fb147f6c00497bb48e4d4466ffdea8",
       "toolbar": "IPY_MODEL_c772bc7f9cbe4c088b6c14612b94fa8c",
       "toolbar_position": "left"
      }
     },
     "b865359fe5b84b92afde11259b21bed0": {
      "model_module": "jupyter-matplotlib",
      "model_module_version": "^0.7.2",
      "model_name": "MPLCanvasModel",
      "state": {
       "_cursor": "default",
       "_figure_label": "Figure 58",
       "_height": 480,
       "_image_mode": "diff",
       "_width": 640,
       "layout": "IPY_MODEL_79bc7cb99fed4d2b8dd66da0c655f877",
       "toolbar": "IPY_MODEL_c59fdbc8a98645abaf23ee42ab07e21d",
       "toolbar_position": "left"
      }
     },
     "b8c52d4c410e43aebb9784818d2c0a60": {
      "model_module": "@jupyter-widgets/base",
      "model_module_version": "1.2.0",
      "model_name": "LayoutModel",
      "state": {}
     },
     "b90023b69ec6469c9172e6fd2ff3f4d4": {
      "model_module": "jupyter-matplotlib",
      "model_module_version": "^0.7.2",
      "model_name": "ToolbarModel",
      "state": {
       "layout": "IPY_MODEL_da52629dfc834d67a8b5a97ed71c9613",
       "toolitems": [
        [
         "Home",
         "Reset original view",
         "home",
         "home"
        ],
        [
         "Back",
         "Back to previous view",
         "arrow-left",
         "back"
        ],
        [
         "Forward",
         "Forward to next view",
         "arrow-right",
         "forward"
        ],
        [
         "Pan",
         "Pan axes with left mouse, zoom with right",
         "arrows",
         "pan"
        ],
        [
         "Zoom",
         "Zoom to rectangle",
         "square-o",
         "zoom"
        ],
        [
         "Download",
         "Download plot",
         "floppy-o",
         "save_figure"
        ]
       ]
      }
     },
     "b95606f120094622937d155a7cd86c20": {
      "model_module": "@jupyter-widgets/base",
      "model_module_version": "1.2.0",
      "model_name": "LayoutModel",
      "state": {}
     },
     "b9ab1a84707643dcb9813c2f3605dd41": {
      "model_module": "@jupyter-widgets/base",
      "model_module_version": "1.2.0",
      "model_name": "LayoutModel",
      "state": {}
     },
     "ba06b031305c42f58aa48c0c72ca769c": {
      "model_module": "jupyter-matplotlib",
      "model_module_version": "^0.7.2",
      "model_name": "MPLCanvasModel",
      "state": {
       "_cursor": "default",
       "_figure_label": "Figure 76",
       "_height": 480,
       "_image_mode": "diff",
       "_message": "x=12202.8      y=3482.48     ",
       "_width": 640,
       "layout": "IPY_MODEL_9c2497ab27844eb9b5317bfecafb6171",
       "toolbar": "IPY_MODEL_b14d4b706768498aacd06feffdcff0ea",
       "toolbar_position": "left"
      }
     },
     "ba42b6e026c54f699067f2c460bb7460": {
      "model_module": "@jupyter-widgets/base",
      "model_module_version": "1.2.0",
      "model_name": "LayoutModel",
      "state": {}
     },
     "ba6104ad72cb4ec5bc1766f5c59f8d48": {
      "model_module": "jupyter-matplotlib",
      "model_module_version": "^0.7.2",
      "model_name": "MPLCanvasModel",
      "state": {
       "_cursor": "default",
       "_figure_label": "Figure 16",
       "_height": 480,
       "_width": 640,
       "layout": "IPY_MODEL_14256fe98a624a0087a30f3055e30466",
       "toolbar": "IPY_MODEL_44b46b779a9f4cb5976c4fc61535ae76",
       "toolbar_position": "left"
      }
     },
     "ba87b4ecb6a648c8b3e58b2a7af6485a": {
      "model_module": "@jupyter-widgets/base",
      "model_module_version": "1.2.0",
      "model_name": "LayoutModel",
      "state": {}
     },
     "bb02fdda45d14c479a10608f82bb62ac": {
      "model_module": "jupyter-matplotlib",
      "model_module_version": "^0.7.2",
      "model_name": "MPLCanvasModel",
      "state": {
       "_cursor": "default",
       "_figure_label": "Figure 84",
       "_height": 480,
       "_image_mode": "diff",
       "_width": 640,
       "layout": "IPY_MODEL_eb60037963d5423f80c3936ae3aaf0a3",
       "toolbar": "IPY_MODEL_5c7461c84a8f40858356e81eccc7160d",
       "toolbar_position": "left"
      }
     },
     "bc080a8daa8f44c9ac2b673aee818c2a": {
      "model_module": "jupyter-matplotlib",
      "model_module_version": "^0.7.2",
      "model_name": "ToolbarModel",
      "state": {
       "layout": "IPY_MODEL_9d6391909a674470a69c0c832cd1061f",
       "toolitems": [
        [
         "Home",
         "Reset original view",
         "home",
         "home"
        ],
        [
         "Back",
         "Back to previous view",
         "arrow-left",
         "back"
        ],
        [
         "Forward",
         "Forward to next view",
         "arrow-right",
         "forward"
        ],
        [
         "Pan",
         "Pan axes with left mouse, zoom with right",
         "arrows",
         "pan"
        ],
        [
         "Zoom",
         "Zoom to rectangle",
         "square-o",
         "zoom"
        ],
        [
         "Download",
         "Download plot",
         "floppy-o",
         "save_figure"
        ]
       ]
      }
     },
     "bc5b6b5315b04b10bbb878bcd67b28fa": {
      "model_module": "@jupyter-widgets/base",
      "model_module_version": "1.2.0",
      "model_name": "LayoutModel",
      "state": {}
     },
     "bc93169ff63c4e219d71088e713c8482": {
      "model_module": "jupyter-matplotlib",
      "model_module_version": "^0.7.2",
      "model_name": "ToolbarModel",
      "state": {
       "layout": "IPY_MODEL_491ff434c9bc4102b27235736b1ad83c",
       "toolitems": [
        [
         "Home",
         "Reset original view",
         "home",
         "home"
        ],
        [
         "Back",
         "Back to previous view",
         "arrow-left",
         "back"
        ],
        [
         "Forward",
         "Forward to next view",
         "arrow-right",
         "forward"
        ],
        [
         "Pan",
         "Pan axes with left mouse, zoom with right",
         "arrows",
         "pan"
        ],
        [
         "Zoom",
         "Zoom to rectangle",
         "square-o",
         "zoom"
        ],
        [
         "Download",
         "Download plot",
         "floppy-o",
         "save_figure"
        ]
       ]
      }
     },
     "bccd32b0430941138bf1731b827e98cb": {
      "model_module": "jupyter-matplotlib",
      "model_module_version": "^0.7.2",
      "model_name": "ToolbarModel",
      "state": {
       "layout": "IPY_MODEL_4297b37193154232beee51881a9f121a",
       "toolitems": [
        [
         "Home",
         "Reset original view",
         "home",
         "home"
        ],
        [
         "Back",
         "Back to previous view",
         "arrow-left",
         "back"
        ],
        [
         "Forward",
         "Forward to next view",
         "arrow-right",
         "forward"
        ],
        [
         "Pan",
         "Pan axes with left mouse, zoom with right",
         "arrows",
         "pan"
        ],
        [
         "Zoom",
         "Zoom to rectangle",
         "square-o",
         "zoom"
        ],
        [
         "Download",
         "Download plot",
         "floppy-o",
         "save_figure"
        ]
       ]
      }
     },
     "be242ca1e158474793fb714200a44361": {
      "model_module": "jupyter-matplotlib",
      "model_module_version": "^0.7.2",
      "model_name": "MPLCanvasModel",
      "state": {
       "_cursor": "default",
       "_figure_label": "Figure 18",
       "_height": 480,
       "_width": 640,
       "layout": "IPY_MODEL_df15f84deee64935aaed15bd0b940ce5",
       "toolbar": "IPY_MODEL_50eef9404af44c699bf1bb37fa05175e",
       "toolbar_position": "left"
      }
     },
     "bfb26acb877e465487f8fe64d9baac83": {
      "model_module": "jupyter-matplotlib",
      "model_module_version": "^0.7.2",
      "model_name": "MPLCanvasModel",
      "state": {
       "_cursor": "default",
       "_figure_label": "Figure 83",
       "_height": 480,
       "_width": 640,
       "layout": "IPY_MODEL_61ed3e5b0ec54e60a504f3e3166162c7",
       "toolbar": "IPY_MODEL_02ddc270330d4faf9c00ef63ed93ce85",
       "toolbar_position": "left"
      }
     },
     "bfe89d8e54e44592ae2e84c8eeb1eb90": {
      "model_module": "@jupyter-widgets/base",
      "model_module_version": "1.2.0",
      "model_name": "LayoutModel",
      "state": {}
     },
     "c03f36ddab644a2d92296f57e5ca9101": {
      "model_module": "@jupyter-widgets/base",
      "model_module_version": "1.2.0",
      "model_name": "LayoutModel",
      "state": {}
     },
     "c0d01acc541843e7a38f36f6af6e2dc5": {
      "model_module": "@jupyter-widgets/base",
      "model_module_version": "1.2.0",
      "model_name": "LayoutModel",
      "state": {}
     },
     "c0de9c06672e438bb8c81bd76a5a6cf9": {
      "model_module": "jupyter-matplotlib",
      "model_module_version": "^0.7.2",
      "model_name": "MPLCanvasModel",
      "state": {
       "_cursor": "default",
       "_figure_label": "Figure 10",
       "_height": 480,
       "_width": 640,
       "layout": "IPY_MODEL_c03f36ddab644a2d92296f57e5ca9101",
       "toolbar": "IPY_MODEL_dce29184694945aaa622bbf379a1442b",
       "toolbar_position": "left"
      }
     },
     "c125ba07ffe641dfade5f126234134a0": {
      "model_module": "jupyter-matplotlib",
      "model_module_version": "^0.7.2",
      "model_name": "ToolbarModel",
      "state": {
       "layout": "IPY_MODEL_0846367601d24755b78b4fdab4273dcc",
       "toolitems": [
        [
         "Home",
         "Reset original view",
         "home",
         "home"
        ],
        [
         "Back",
         "Back to previous view",
         "arrow-left",
         "back"
        ],
        [
         "Forward",
         "Forward to next view",
         "arrow-right",
         "forward"
        ],
        [
         "Pan",
         "Pan axes with left mouse, zoom with right",
         "arrows",
         "pan"
        ],
        [
         "Zoom",
         "Zoom to rectangle",
         "square-o",
         "zoom"
        ],
        [
         "Download",
         "Download plot",
         "floppy-o",
         "save_figure"
        ]
       ]
      }
     },
     "c26b4df5a93c4d2e9896ad935a2735e3": {
      "model_module": "jupyter-matplotlib",
      "model_module_version": "^0.7.2",
      "model_name": "MPLCanvasModel",
      "state": {
       "_cursor": "default",
       "_figure_label": "Figure 72",
       "_height": 480,
       "_width": 640,
       "layout": "IPY_MODEL_d39e66ad0e4d44b1a81e2c2699116841",
       "toolbar": "IPY_MODEL_b12a4c6ec475453b9b4cfcb31748cc52",
       "toolbar_position": "left"
      }
     },
     "c3730a7f20074f33a520723bf3a1f2ea": {
      "model_module": "@jupyter-widgets/base",
      "model_module_version": "1.2.0",
      "model_name": "LayoutModel",
      "state": {}
     },
     "c3a4795c14024f0485e76ec34bc96b1f": {
      "model_module": "@jupyter-widgets/base",
      "model_module_version": "1.2.0",
      "model_name": "LayoutModel",
      "state": {}
     },
     "c3c936b482de47e6a4d73787fc5bd3c9": {
      "model_module": "jupyter-matplotlib",
      "model_module_version": "^0.7.2",
      "model_name": "MPLCanvasModel",
      "state": {
       "_cursor": "default",
       "_figure_label": "Figure 70",
       "_height": 480,
       "_image_mode": "diff",
       "_width": 640,
       "layout": "IPY_MODEL_3ddc2204bac248cc897e1545b0c09886",
       "toolbar": "IPY_MODEL_40956cedc0b7416d97b6874d373662b4",
       "toolbar_position": "left"
      }
     },
     "c3fd22022e0b4bffb3acb8c6633f0e03": {
      "model_module": "@jupyter-widgets/base",
      "model_module_version": "1.2.0",
      "model_name": "LayoutModel",
      "state": {}
     },
     "c4b4fb28c666428a8dc26ca90b3a1a3a": {
      "model_module": "@jupyter-widgets/base",
      "model_module_version": "1.2.0",
      "model_name": "LayoutModel",
      "state": {}
     },
     "c4e6c3e82d0a48b5a8b123c82a9120a8": {
      "model_module": "jupyter-matplotlib",
      "model_module_version": "^0.7.2",
      "model_name": "MPLCanvasModel",
      "state": {
       "_cursor": "default",
       "_figure_label": "Figure 46",
       "_height": 480,
       "_width": 640,
       "layout": "IPY_MODEL_9f36b4bd20d44051924383999370949f",
       "toolbar": "IPY_MODEL_e3259d5eeb574c49a24b7289aac52228",
       "toolbar_position": "left"
      }
     },
     "c59fdbc8a98645abaf23ee42ab07e21d": {
      "model_module": "jupyter-matplotlib",
      "model_module_version": "^0.7.2",
      "model_name": "ToolbarModel",
      "state": {
       "layout": "IPY_MODEL_ead6bb171b894ba7b55e2ae69ef331a1",
       "toolitems": [
        [
         "Home",
         "Reset original view",
         "home",
         "home"
        ],
        [
         "Back",
         "Back to previous view",
         "arrow-left",
         "back"
        ],
        [
         "Forward",
         "Forward to next view",
         "arrow-right",
         "forward"
        ],
        [
         "Pan",
         "Pan axes with left mouse, zoom with right",
         "arrows",
         "pan"
        ],
        [
         "Zoom",
         "Zoom to rectangle",
         "square-o",
         "zoom"
        ],
        [
         "Download",
         "Download plot",
         "floppy-o",
         "save_figure"
        ]
       ]
      }
     },
     "c5fd81dc30da4f0cb1b03af0f8381e4f": {
      "model_module": "jupyter-matplotlib",
      "model_module_version": "^0.7.2",
      "model_name": "ToolbarModel",
      "state": {
       "layout": "IPY_MODEL_b95606f120094622937d155a7cd86c20",
       "toolitems": [
        [
         "Home",
         "Reset original view",
         "home",
         "home"
        ],
        [
         "Back",
         "Back to previous view",
         "arrow-left",
         "back"
        ],
        [
         "Forward",
         "Forward to next view",
         "arrow-right",
         "forward"
        ],
        [
         "Pan",
         "Pan axes with left mouse, zoom with right",
         "arrows",
         "pan"
        ],
        [
         "Zoom",
         "Zoom to rectangle",
         "square-o",
         "zoom"
        ],
        [
         "Download",
         "Download plot",
         "floppy-o",
         "save_figure"
        ]
       ]
      }
     },
     "c60fb6bfa7414664a98e6246902a79b0": {
      "model_module": "jupyter-matplotlib",
      "model_module_version": "^0.7.2",
      "model_name": "MPLCanvasModel",
      "state": {
       "_cursor": "default",
       "_figure_label": "Figure 11",
       "_height": 480,
       "_width": 640,
       "layout": "IPY_MODEL_1dd9b7d48bd443209c0fd9f04d1a971b",
       "toolbar": "IPY_MODEL_abd698103be14ca9b09711ca9222c81e",
       "toolbar_position": "left"
      }
     },
     "c632ca6692e54fe982579164fdc69ee5": {
      "model_module": "@jupyter-widgets/base",
      "model_module_version": "1.2.0",
      "model_name": "LayoutModel",
      "state": {}
     },
     "c6d30cf2277546f0ba26c15ea77ae9f2": {
      "model_module": "@jupyter-widgets/base",
      "model_module_version": "1.2.0",
      "model_name": "LayoutModel",
      "state": {}
     },
     "c711385bf88f4db0a4fc99f57c21f7ee": {
      "model_module": "jupyter-matplotlib",
      "model_module_version": "^0.7.2",
      "model_name": "MPLCanvasModel",
      "state": {
       "_cursor": "default",
       "_figure_label": "Figure 75",
       "_height": 480,
       "_image_mode": "diff",
       "_width": 640,
       "layout": "IPY_MODEL_a1708fd9b1034cda9802b8a23529234e",
       "toolbar": "IPY_MODEL_fd297609e3a446d7bdb358f52d6e6a1a",
       "toolbar_position": "left"
      }
     },
     "c772bc7f9cbe4c088b6c14612b94fa8c": {
      "model_module": "jupyter-matplotlib",
      "model_module_version": "^0.7.2",
      "model_name": "ToolbarModel",
      "state": {
       "layout": "IPY_MODEL_f91efd16caae49039a2143d8559c962c",
       "toolitems": [
        [
         "Home",
         "Reset original view",
         "home",
         "home"
        ],
        [
         "Back",
         "Back to previous view",
         "arrow-left",
         "back"
        ],
        [
         "Forward",
         "Forward to next view",
         "arrow-right",
         "forward"
        ],
        [
         "Pan",
         "Pan axes with left mouse, zoom with right",
         "arrows",
         "pan"
        ],
        [
         "Zoom",
         "Zoom to rectangle",
         "square-o",
         "zoom"
        ],
        [
         "Download",
         "Download plot",
         "floppy-o",
         "save_figure"
        ]
       ]
      }
     },
     "c7c552eead224899adff0d743c5f7152": {
      "model_module": "jupyter-matplotlib",
      "model_module_version": "^0.7.2",
      "model_name": "ToolbarModel",
      "state": {
       "layout": "IPY_MODEL_a4e1f3688e324bdca74030eb035cb7cf",
       "toolitems": [
        [
         "Home",
         "Reset original view",
         "home",
         "home"
        ],
        [
         "Back",
         "Back to previous view",
         "arrow-left",
         "back"
        ],
        [
         "Forward",
         "Forward to next view",
         "arrow-right",
         "forward"
        ],
        [
         "Pan",
         "Pan axes with left mouse, zoom with right",
         "arrows",
         "pan"
        ],
        [
         "Zoom",
         "Zoom to rectangle",
         "square-o",
         "zoom"
        ],
        [
         "Download",
         "Download plot",
         "floppy-o",
         "save_figure"
        ]
       ]
      }
     },
     "c889fc24b2234e6db7d0eef8d4244055": {
      "model_module": "jupyter-matplotlib",
      "model_module_version": "^0.7.2",
      "model_name": "ToolbarModel",
      "state": {
       "layout": "IPY_MODEL_d26bc5ab474645c98c17fd3e0049a1b3",
       "toolitems": [
        [
         "Home",
         "Reset original view",
         "home",
         "home"
        ],
        [
         "Back",
         "Back to previous view",
         "arrow-left",
         "back"
        ],
        [
         "Forward",
         "Forward to next view",
         "arrow-right",
         "forward"
        ],
        [
         "Pan",
         "Pan axes with left mouse, zoom with right",
         "arrows",
         "pan"
        ],
        [
         "Zoom",
         "Zoom to rectangle",
         "square-o",
         "zoom"
        ],
        [
         "Download",
         "Download plot",
         "floppy-o",
         "save_figure"
        ]
       ]
      }
     },
     "c8b1fc397b7c4c5c8db9b45ee64cd10a": {
      "model_module": "jupyter-matplotlib",
      "model_module_version": "^0.7.2",
      "model_name": "ToolbarModel",
      "state": {
       "layout": "IPY_MODEL_57137adc809640f1adb45f8724c3fcae",
       "toolitems": [
        [
         "Home",
         "Reset original view",
         "home",
         "home"
        ],
        [
         "Back",
         "Back to previous view",
         "arrow-left",
         "back"
        ],
        [
         "Forward",
         "Forward to next view",
         "arrow-right",
         "forward"
        ],
        [
         "Pan",
         "Pan axes with left mouse, zoom with right",
         "arrows",
         "pan"
        ],
        [
         "Zoom",
         "Zoom to rectangle",
         "square-o",
         "zoom"
        ],
        [
         "Download",
         "Download plot",
         "floppy-o",
         "save_figure"
        ]
       ]
      }
     },
     "c91a14a39ee9432d962070e591c71837": {
      "model_module": "@jupyter-widgets/base",
      "model_module_version": "1.2.0",
      "model_name": "LayoutModel",
      "state": {}
     },
     "c92552b50c41451796e2b07042ae7df0": {
      "model_module": "jupyter-matplotlib",
      "model_module_version": "^0.7.2",
      "model_name": "MPLCanvasModel",
      "state": {
       "_cursor": "default",
       "_figure_label": "Figure 71",
       "_height": 480,
       "_width": 640,
       "layout": "IPY_MODEL_f269edcf417b4b7fa5f8a8c99e64d478",
       "toolbar": "IPY_MODEL_f0be361088c44e44a325d61a2db5f104",
       "toolbar_position": "left"
      }
     },
     "ca464609708e4f08abc2e51cd7f03d86": {
      "model_module": "@jupyter-widgets/base",
      "model_module_version": "1.2.0",
      "model_name": "LayoutModel",
      "state": {}
     },
     "cb96ae024efd410e8274e5e2b1755ab9": {
      "model_module": "jupyter-matplotlib",
      "model_module_version": "^0.7.2",
      "model_name": "MPLCanvasModel",
      "state": {
       "_cursor": "default",
       "_figure_label": "Figure 47",
       "_height": 480,
       "_width": 640,
       "layout": "IPY_MODEL_33474bf8290448589fcf56e5d65b9ecb",
       "toolbar": "IPY_MODEL_e90bd823ba0f45dcae48a2d78928a908",
       "toolbar_position": "left"
      }
     },
     "cbb1f9806ad644de9ce270c87e555c5c": {
      "model_module": "jupyter-matplotlib",
      "model_module_version": "^0.7.2",
      "model_name": "ToolbarModel",
      "state": {
       "layout": "IPY_MODEL_8feeec1eeefb48128a89f29874c99abd",
       "toolitems": [
        [
         "Home",
         "Reset original view",
         "home",
         "home"
        ],
        [
         "Back",
         "Back to previous view",
         "arrow-left",
         "back"
        ],
        [
         "Forward",
         "Forward to next view",
         "arrow-right",
         "forward"
        ],
        [
         "Pan",
         "Pan axes with left mouse, zoom with right",
         "arrows",
         "pan"
        ],
        [
         "Zoom",
         "Zoom to rectangle",
         "square-o",
         "zoom"
        ],
        [
         "Download",
         "Download plot",
         "floppy-o",
         "save_figure"
        ]
       ]
      }
     },
     "cc02c33177f24f39b66ebba43b9e8116": {
      "model_module": "@jupyter-widgets/base",
      "model_module_version": "1.2.0",
      "model_name": "LayoutModel",
      "state": {}
     },
     "cc691d4373584510884f983aa4b3abb4": {
      "model_module": "jupyter-matplotlib",
      "model_module_version": "^0.7.2",
      "model_name": "MPLCanvasModel",
      "state": {
       "_cursor": "default",
       "_figure_label": "Figure 66",
       "_height": 480,
       "_width": 640,
       "layout": "IPY_MODEL_c91a14a39ee9432d962070e591c71837",
       "toolbar": "IPY_MODEL_b90023b69ec6469c9172e6fd2ff3f4d4",
       "toolbar_position": "left"
      }
     },
     "cd62a083b805482c8a006b77731788b8": {
      "model_module": "jupyter-matplotlib",
      "model_module_version": "^0.7.2",
      "model_name": "ToolbarModel",
      "state": {
       "layout": "IPY_MODEL_6696a1d75ff648f4902f1ef42e113a4e",
       "toolitems": [
        [
         "Home",
         "Reset original view",
         "home",
         "home"
        ],
        [
         "Back",
         "Back to previous view",
         "arrow-left",
         "back"
        ],
        [
         "Forward",
         "Forward to next view",
         "arrow-right",
         "forward"
        ],
        [
         "Pan",
         "Pan axes with left mouse, zoom with right",
         "arrows",
         "pan"
        ],
        [
         "Zoom",
         "Zoom to rectangle",
         "square-o",
         "zoom"
        ],
        [
         "Download",
         "Download plot",
         "floppy-o",
         "save_figure"
        ]
       ]
      }
     },
     "cf1a8276228d49beaf3796d2987a4d94": {
      "model_module": "@jupyter-widgets/base",
      "model_module_version": "1.2.0",
      "model_name": "LayoutModel",
      "state": {}
     },
     "cf7f927e409744ee85758c822df265b5": {
      "model_module": "jupyter-matplotlib",
      "model_module_version": "^0.7.2",
      "model_name": "ToolbarModel",
      "state": {
       "layout": "IPY_MODEL_8dfff63207aa41e9a76ca866417b430a",
       "toolitems": [
        [
         "Home",
         "Reset original view",
         "home",
         "home"
        ],
        [
         "Back",
         "Back to previous view",
         "arrow-left",
         "back"
        ],
        [
         "Forward",
         "Forward to next view",
         "arrow-right",
         "forward"
        ],
        [
         "Pan",
         "Pan axes with left mouse, zoom with right",
         "arrows",
         "pan"
        ],
        [
         "Zoom",
         "Zoom to rectangle",
         "square-o",
         "zoom"
        ],
        [
         "Download",
         "Download plot",
         "floppy-o",
         "save_figure"
        ]
       ]
      }
     },
     "cf966f4457d84edaa66144dc4f4b6a52": {
      "model_module": "jupyter-matplotlib",
      "model_module_version": "^0.7.2",
      "model_name": "MPLCanvasModel",
      "state": {
       "_cursor": "default",
       "_figure_label": "Figure 24",
       "_height": 480,
       "_image_mode": "diff",
       "_width": 640,
       "layout": "IPY_MODEL_754a3186504f48bbaf5eddea6cd98022",
       "toolbar": "IPY_MODEL_0a313edd823b4527b46e9ae45bbed818",
       "toolbar_position": "left"
      }
     },
     "d0cdf6a1c80b4978b80e0522a4d332d8": {
      "model_module": "@jupyter-widgets/base",
      "model_module_version": "1.2.0",
      "model_name": "LayoutModel",
      "state": {}
     },
     "d0e7d783de5249389f74f94188cbca13": {
      "model_module": "@jupyter-widgets/controls",
      "model_module_version": "1.5.0",
      "model_name": "IntSliderModel",
      "state": {
       "description": "Days",
       "layout": "IPY_MODEL_2f7038186cb44ce98327b9292e7ea0a2",
       "max": 40,
       "style": "IPY_MODEL_1e778ef7cc1c4f43a114b7c638e1d3d0",
       "value": 1
      }
     },
     "d26bc5ab474645c98c17fd3e0049a1b3": {
      "model_module": "@jupyter-widgets/base",
      "model_module_version": "1.2.0",
      "model_name": "LayoutModel",
      "state": {}
     },
     "d2ea6b54b9634fa983f4c42aada3c1a2": {
      "model_module": "jupyter-matplotlib",
      "model_module_version": "^0.7.2",
      "model_name": "ToolbarModel",
      "state": {
       "layout": "IPY_MODEL_859cf64919eb46a0a64ee463a84c130d",
       "toolitems": [
        [
         "Home",
         "Reset original view",
         "home",
         "home"
        ],
        [
         "Back",
         "Back to previous view",
         "arrow-left",
         "back"
        ],
        [
         "Forward",
         "Forward to next view",
         "arrow-right",
         "forward"
        ],
        [
         "Pan",
         "Pan axes with left mouse, zoom with right",
         "arrows",
         "pan"
        ],
        [
         "Zoom",
         "Zoom to rectangle",
         "square-o",
         "zoom"
        ],
        [
         "Download",
         "Download plot",
         "floppy-o",
         "save_figure"
        ]
       ]
      }
     },
     "d3267c2654ab4bb2a4ed1897bb44c90c": {
      "model_module": "jupyter-matplotlib",
      "model_module_version": "^0.7.2",
      "model_name": "MPLCanvasModel",
      "state": {
       "_cursor": "default",
       "_figure_label": "Figure 62",
       "_height": 480,
       "_width": 640,
       "layout": "IPY_MODEL_0a3656284162467493eebc052d9760d7",
       "toolbar": "IPY_MODEL_0ed97e37b66f42eb81210b2328ef6696",
       "toolbar_position": "left"
      }
     },
     "d364477487cb4ecc94df718351837bcc": {
      "model_module": "@jupyter-widgets/base",
      "model_module_version": "1.2.0",
      "model_name": "LayoutModel",
      "state": {}
     },
     "d39e66ad0e4d44b1a81e2c2699116841": {
      "model_module": "@jupyter-widgets/base",
      "model_module_version": "1.2.0",
      "model_name": "LayoutModel",
      "state": {}
     },
     "d3e0dcfa3254442fa99579b485d4a062": {
      "model_module": "@jupyter-widgets/base",
      "model_module_version": "1.2.0",
      "model_name": "LayoutModel",
      "state": {}
     },
     "d7f4eabb6d3e4d73be15ae2841e66bb7": {
      "model_module": "jupyter-matplotlib",
      "model_module_version": "^0.7.2",
      "model_name": "MPLCanvasModel",
      "state": {
       "_cursor": "default",
       "_figure_label": "Figure 28",
       "_height": 480,
       "_width": 640,
       "layout": "IPY_MODEL_83668baaec794a02a3519c5752bb0d7c",
       "toolbar": "IPY_MODEL_180a9d48d46743a4a0cb316f4aa0441b",
       "toolbar_position": "left"
      }
     },
     "d8198f9447ae48a5a786d5325fc6f4f6": {
      "model_module": "@jupyter-widgets/base",
      "model_module_version": "1.2.0",
      "model_name": "LayoutModel",
      "state": {}
     },
     "d87e512628d44225b32036ca5c71d82f": {
      "model_module": "@jupyter-widgets/base",
      "model_module_version": "1.2.0",
      "model_name": "LayoutModel",
      "state": {}
     },
     "d93e572d340a44deb255269322003ff8": {
      "model_module": "jupyter-matplotlib",
      "model_module_version": "^0.7.2",
      "model_name": "ToolbarModel",
      "state": {
       "layout": "IPY_MODEL_94799c8ab4824d41afcdaf695d5dc6f2",
       "toolitems": [
        [
         "Home",
         "Reset original view",
         "home",
         "home"
        ],
        [
         "Back",
         "Back to previous view",
         "arrow-left",
         "back"
        ],
        [
         "Forward",
         "Forward to next view",
         "arrow-right",
         "forward"
        ],
        [
         "Pan",
         "Pan axes with left mouse, zoom with right",
         "arrows",
         "pan"
        ],
        [
         "Zoom",
         "Zoom to rectangle",
         "square-o",
         "zoom"
        ],
        [
         "Download",
         "Download plot",
         "floppy-o",
         "save_figure"
        ]
       ]
      }
     },
     "d9a984d1b1494ee885ff8a5a447faddd": {
      "model_module": "@jupyter-widgets/base",
      "model_module_version": "1.2.0",
      "model_name": "LayoutModel",
      "state": {}
     },
     "da52629dfc834d67a8b5a97ed71c9613": {
      "model_module": "@jupyter-widgets/base",
      "model_module_version": "1.2.0",
      "model_name": "LayoutModel",
      "state": {}
     },
     "dbfae837597a4746b000a99bf9b10bdb": {
      "model_module": "jupyter-matplotlib",
      "model_module_version": "^0.7.2",
      "model_name": "ToolbarModel",
      "state": {
       "layout": "IPY_MODEL_f77fd4b0c6cd40bcae529b276ada4ce8",
       "toolitems": [
        [
         "Home",
         "Reset original view",
         "home",
         "home"
        ],
        [
         "Back",
         "Back to previous view",
         "arrow-left",
         "back"
        ],
        [
         "Forward",
         "Forward to next view",
         "arrow-right",
         "forward"
        ],
        [
         "Pan",
         "Pan axes with left mouse, zoom with right",
         "arrows",
         "pan"
        ],
        [
         "Zoom",
         "Zoom to rectangle",
         "square-o",
         "zoom"
        ],
        [
         "Download",
         "Download plot",
         "floppy-o",
         "save_figure"
        ]
       ]
      }
     },
     "dce29184694945aaa622bbf379a1442b": {
      "model_module": "jupyter-matplotlib",
      "model_module_version": "^0.7.2",
      "model_name": "ToolbarModel",
      "state": {
       "layout": "IPY_MODEL_de0c6875983d4405a245b8c181deb36e",
       "toolitems": [
        [
         "Home",
         "Reset original view",
         "home",
         "home"
        ],
        [
         "Back",
         "Back to previous view",
         "arrow-left",
         "back"
        ],
        [
         "Forward",
         "Forward to next view",
         "arrow-right",
         "forward"
        ],
        [
         "Pan",
         "Pan axes with left mouse, zoom with right",
         "arrows",
         "pan"
        ],
        [
         "Zoom",
         "Zoom to rectangle",
         "square-o",
         "zoom"
        ],
        [
         "Download",
         "Download plot",
         "floppy-o",
         "save_figure"
        ]
       ]
      }
     },
     "dd159706807a49449618b6714d98b960": {
      "model_module": "@jupyter-widgets/base",
      "model_module_version": "1.2.0",
      "model_name": "LayoutModel",
      "state": {}
     },
     "de0c6875983d4405a245b8c181deb36e": {
      "model_module": "@jupyter-widgets/base",
      "model_module_version": "1.2.0",
      "model_name": "LayoutModel",
      "state": {}
     },
     "defa1add41d34207a506cc752cd50507": {
      "model_module": "@jupyter-widgets/base",
      "model_module_version": "1.2.0",
      "model_name": "LayoutModel",
      "state": {}
     },
     "df15f84deee64935aaed15bd0b940ce5": {
      "model_module": "@jupyter-widgets/base",
      "model_module_version": "1.2.0",
      "model_name": "LayoutModel",
      "state": {}
     },
     "df5e2153aabd4131bb29821775aab086": {
      "model_module": "@jupyter-widgets/base",
      "model_module_version": "1.2.0",
      "model_name": "LayoutModel",
      "state": {}
     },
     "e02c2c90919642ec9595fb93a96cd0ff": {
      "model_module": "@jupyter-widgets/base",
      "model_module_version": "1.2.0",
      "model_name": "LayoutModel",
      "state": {}
     },
     "e081d531b3b747c78009f726b5a08908": {
      "model_module": "@jupyter-widgets/base",
      "model_module_version": "1.2.0",
      "model_name": "LayoutModel",
      "state": {}
     },
     "e1694d912750408c8f0dcf841990903d": {
      "model_module": "@jupyter-widgets/base",
      "model_module_version": "1.2.0",
      "model_name": "LayoutModel",
      "state": {}
     },
     "e1fa81e56d8845a3b3b9e4539a80c7b6": {
      "model_module": "@jupyter-widgets/base",
      "model_module_version": "1.2.0",
      "model_name": "LayoutModel",
      "state": {}
     },
     "e26accd39dc54865a48629d9a7a1e1b1": {
      "model_module": "jupyter-matplotlib",
      "model_module_version": "^0.7.2",
      "model_name": "MPLCanvasModel",
      "state": {
       "_cursor": "default",
       "_figure_label": "Figure 38",
       "_height": 480,
       "_image_mode": "diff",
       "_width": 640,
       "layout": "IPY_MODEL_fcddf85454a1426f80cf8db9bd8385d2",
       "toolbar": "IPY_MODEL_3f8557f9f6ad4ffbba3f0e6f9b035aa3",
       "toolbar_position": "left"
      }
     },
     "e2ee0c2bbcf1425da4b488c38b0f2fd5": {
      "model_module": "jupyter-matplotlib",
      "model_module_version": "^0.7.2",
      "model_name": "MPLCanvasModel",
      "state": {
       "_cursor": "default",
       "_figure_label": "Figure 41",
       "_height": 480,
       "_image_mode": "diff",
       "_message": "x=2020-03-23 y=23563.4     ",
       "_width": 640,
       "layout": "IPY_MODEL_dd159706807a49449618b6714d98b960",
       "toolbar": "IPY_MODEL_7d51251eacd94b52b3bf2727010aa87a",
       "toolbar_position": "left"
      }
     },
     "e3259d5eeb574c49a24b7289aac52228": {
      "model_module": "jupyter-matplotlib",
      "model_module_version": "^0.7.2",
      "model_name": "ToolbarModel",
      "state": {
       "layout": "IPY_MODEL_f4c32a96f2544ca2b579fa119e0bdf0c",
       "toolitems": [
        [
         "Home",
         "Reset original view",
         "home",
         "home"
        ],
        [
         "Back",
         "Back to previous view",
         "arrow-left",
         "back"
        ],
        [
         "Forward",
         "Forward to next view",
         "arrow-right",
         "forward"
        ],
        [
         "Pan",
         "Pan axes with left mouse, zoom with right",
         "arrows",
         "pan"
        ],
        [
         "Zoom",
         "Zoom to rectangle",
         "square-o",
         "zoom"
        ],
        [
         "Download",
         "Download plot",
         "floppy-o",
         "save_figure"
        ]
       ]
      }
     },
     "e39a61fac18c4a96a599fab75972da07": {
      "model_module": "jupyter-matplotlib",
      "model_module_version": "^0.7.2",
      "model_name": "ToolbarModel",
      "state": {
       "layout": "IPY_MODEL_f63fd66c939b41bbaf79bc7ff292a776",
       "toolitems": [
        [
         "Home",
         "Reset original view",
         "home",
         "home"
        ],
        [
         "Back",
         "Back to previous view",
         "arrow-left",
         "back"
        ],
        [
         "Forward",
         "Forward to next view",
         "arrow-right",
         "forward"
        ],
        [
         "Pan",
         "Pan axes with left mouse, zoom with right",
         "arrows",
         "pan"
        ],
        [
         "Zoom",
         "Zoom to rectangle",
         "square-o",
         "zoom"
        ],
        [
         "Download",
         "Download plot",
         "floppy-o",
         "save_figure"
        ]
       ]
      }
     },
     "e3cd6a3fa1784783a1cad0fb2fec2818": {
      "model_module": "@jupyter-widgets/base",
      "model_module_version": "1.2.0",
      "model_name": "LayoutModel",
      "state": {}
     },
     "e4347091324a4298aa1c071cbbc80690": {
      "model_module": "jupyter-matplotlib",
      "model_module_version": "^0.7.2",
      "model_name": "ToolbarModel",
      "state": {
       "layout": "IPY_MODEL_d9a984d1b1494ee885ff8a5a447faddd",
       "toolitems": [
        [
         "Home",
         "Reset original view",
         "home",
         "home"
        ],
        [
         "Back",
         "Back to previous view",
         "arrow-left",
         "back"
        ],
        [
         "Forward",
         "Forward to next view",
         "arrow-right",
         "forward"
        ],
        [
         "Pan",
         "Pan axes with left mouse, zoom with right",
         "arrows",
         "pan"
        ],
        [
         "Zoom",
         "Zoom to rectangle",
         "square-o",
         "zoom"
        ],
        [
         "Download",
         "Download plot",
         "floppy-o",
         "save_figure"
        ]
       ]
      }
     },
     "e46d7af8acc1431d95c9d52953dbfa5e": {
      "model_module": "jupyter-matplotlib",
      "model_module_version": "^0.7.2",
      "model_name": "MPLCanvasModel",
      "state": {
       "_cursor": "default",
       "_figure_label": "Figure 9",
       "_height": 480,
       "_width": 640,
       "layout": "IPY_MODEL_e1694d912750408c8f0dcf841990903d",
       "toolbar": "IPY_MODEL_36392a1195114e94b5400e70f5e6f9d0",
       "toolbar_position": "left"
      }
     },
     "e47c94c4c8ab41da9d21fc176cf95352": {
      "model_module": "@jupyter-widgets/base",
      "model_module_version": "1.2.0",
      "model_name": "LayoutModel",
      "state": {}
     },
     "e5002c297074409f992e764a9dcc2796": {
      "model_module": "@jupyter-widgets/base",
      "model_module_version": "1.2.0",
      "model_name": "LayoutModel",
      "state": {}
     },
     "e5b47f2ba6214cd29df1b0e1af6741fe": {
      "model_module": "jupyter-matplotlib",
      "model_module_version": "^0.7.2",
      "model_name": "MPLCanvasModel",
      "state": {
       "_cursor": "default",
       "_figure_label": "Figure 86",
       "_height": 480,
       "_width": 640,
       "layout": "IPY_MODEL_1bc0ebcd02b84d4a9001c65903b995a4",
       "toolbar": "IPY_MODEL_1c4734e125ad43018817e86f6f855b5e",
       "toolbar_position": "left"
      }
     },
     "e67dae0366324cc7a6e8cfd0129fc1e1": {
      "model_module": "@jupyter-widgets/base",
      "model_module_version": "1.2.0",
      "model_name": "LayoutModel",
      "state": {}
     },
     "e83e40ee095641f2aa94e32316f659b3": {
      "model_module": "@jupyter-widgets/base",
      "model_module_version": "1.2.0",
      "model_name": "LayoutModel",
      "state": {}
     },
     "e8c57e81b4614c10ab005c4904e3d44c": {
      "model_module": "jupyter-matplotlib",
      "model_module_version": "^0.7.2",
      "model_name": "MPLCanvasModel",
      "state": {
       "_cursor": "default",
       "_figure_label": "Figure 87",
       "_height": 480,
       "_image_mode": "diff",
       "_message": "x=29413.2      y=919.161     ",
       "_width": 640,
       "layout": "IPY_MODEL_7d9815a7b8174939bd28fde494ace5cc",
       "toolbar": "IPY_MODEL_5ca514853faf4b52bc4d644f3576205e",
       "toolbar_position": "left"
      }
     },
     "e8dee89c66974df7846aab6c97df277d": {
      "model_module": "jupyter-matplotlib",
      "model_module_version": "^0.7.2",
      "model_name": "ToolbarModel",
      "state": {
       "layout": "IPY_MODEL_e5002c297074409f992e764a9dcc2796",
       "toolitems": [
        [
         "Home",
         "Reset original view",
         "home",
         "home"
        ],
        [
         "Back",
         "Back to previous view",
         "arrow-left",
         "back"
        ],
        [
         "Forward",
         "Forward to next view",
         "arrow-right",
         "forward"
        ],
        [
         "Pan",
         "Pan axes with left mouse, zoom with right",
         "arrows",
         "pan"
        ],
        [
         "Zoom",
         "Zoom to rectangle",
         "square-o",
         "zoom"
        ],
        [
         "Download",
         "Download plot",
         "floppy-o",
         "save_figure"
        ]
       ]
      }
     },
     "e90bd823ba0f45dcae48a2d78928a908": {
      "model_module": "jupyter-matplotlib",
      "model_module_version": "^0.7.2",
      "model_name": "ToolbarModel",
      "state": {
       "layout": "IPY_MODEL_4e5a88544517451d9d0b1e99225cc0ed",
       "toolitems": [
        [
         "Home",
         "Reset original view",
         "home",
         "home"
        ],
        [
         "Back",
         "Back to previous view",
         "arrow-left",
         "back"
        ],
        [
         "Forward",
         "Forward to next view",
         "arrow-right",
         "forward"
        ],
        [
         "Pan",
         "Pan axes with left mouse, zoom with right",
         "arrows",
         "pan"
        ],
        [
         "Zoom",
         "Zoom to rectangle",
         "square-o",
         "zoom"
        ],
        [
         "Download",
         "Download plot",
         "floppy-o",
         "save_figure"
        ]
       ]
      }
     },
     "e9cc5c329e46455eb0dbdbe7ba3dc9cc": {
      "model_module": "@jupyter-widgets/base",
      "model_module_version": "1.2.0",
      "model_name": "LayoutModel",
      "state": {}
     },
     "e9d82333e61c40c0a5339b94d7bb810f": {
      "model_module": "@jupyter-widgets/base",
      "model_module_version": "1.2.0",
      "model_name": "LayoutModel",
      "state": {}
     },
     "e9edd08296484b5cbc95259c2b904322": {
      "model_module": "@jupyter-widgets/base",
      "model_module_version": "1.2.0",
      "model_name": "LayoutModel",
      "state": {}
     },
     "ea59c2eaeb8d449eb1f05136a374e825": {
      "model_module": "@jupyter-widgets/base",
      "model_module_version": "1.2.0",
      "model_name": "LayoutModel",
      "state": {}
     },
     "ead6bb171b894ba7b55e2ae69ef331a1": {
      "model_module": "@jupyter-widgets/base",
      "model_module_version": "1.2.0",
      "model_name": "LayoutModel",
      "state": {}
     },
     "eb60037963d5423f80c3936ae3aaf0a3": {
      "model_module": "@jupyter-widgets/base",
      "model_module_version": "1.2.0",
      "model_name": "LayoutModel",
      "state": {}
     },
     "ebc4ca5cd2cb4f7a9841727ac27be0ad": {
      "model_module": "@jupyter-widgets/base",
      "model_module_version": "1.2.0",
      "model_name": "LayoutModel",
      "state": {}
     },
     "ed210e497f544de1a2588c8acf27f7b1": {
      "model_module": "@jupyter-widgets/base",
      "model_module_version": "1.2.0",
      "model_name": "LayoutModel",
      "state": {}
     },
     "ed95b4bd9c934f43beadc29706de8c76": {
      "model_module": "jupyter-matplotlib",
      "model_module_version": "^0.7.2",
      "model_name": "ToolbarModel",
      "state": {
       "layout": "IPY_MODEL_7ab17fe2fd2e404aad6df81cf9e21334",
       "toolitems": [
        [
         "Home",
         "Reset original view",
         "home",
         "home"
        ],
        [
         "Back",
         "Back to previous view",
         "arrow-left",
         "back"
        ],
        [
         "Forward",
         "Forward to next view",
         "arrow-right",
         "forward"
        ],
        [
         "Pan",
         "Pan axes with left mouse, zoom with right",
         "arrows",
         "pan"
        ],
        [
         "Zoom",
         "Zoom to rectangle",
         "square-o",
         "zoom"
        ],
        [
         "Download",
         "Download plot",
         "floppy-o",
         "save_figure"
        ]
       ]
      }
     },
     "ef78a9d084274cc7b83bd73c59ec31b2": {
      "model_module": "@jupyter-widgets/base",
      "model_module_version": "1.2.0",
      "model_name": "LayoutModel",
      "state": {}
     },
     "efa86273f9314b62a588f314dbb58c01": {
      "model_module": "jupyter-matplotlib",
      "model_module_version": "^0.7.2",
      "model_name": "ToolbarModel",
      "state": {
       "layout": "IPY_MODEL_3591aa08300140b393ce41678616e79a",
       "toolitems": [
        [
         "Home",
         "Reset original view",
         "home",
         "home"
        ],
        [
         "Back",
         "Back to previous view",
         "arrow-left",
         "back"
        ],
        [
         "Forward",
         "Forward to next view",
         "arrow-right",
         "forward"
        ],
        [
         "Pan",
         "Pan axes with left mouse, zoom with right",
         "arrows",
         "pan"
        ],
        [
         "Zoom",
         "Zoom to rectangle",
         "square-o",
         "zoom"
        ],
        [
         "Download",
         "Download plot",
         "floppy-o",
         "save_figure"
        ]
       ]
      }
     },
     "f01a844388fc421f92c9eb1ecda4576f": {
      "model_module": "jupyter-matplotlib",
      "model_module_version": "^0.7.2",
      "model_name": "ToolbarModel",
      "state": {
       "layout": "IPY_MODEL_abcfd04e779d4a65a88b0c1f8c21a9df",
       "toolitems": [
        [
         "Home",
         "Reset original view",
         "home",
         "home"
        ],
        [
         "Back",
         "Back to previous view",
         "arrow-left",
         "back"
        ],
        [
         "Forward",
         "Forward to next view",
         "arrow-right",
         "forward"
        ],
        [
         "Pan",
         "Pan axes with left mouse, zoom with right",
         "arrows",
         "pan"
        ],
        [
         "Zoom",
         "Zoom to rectangle",
         "square-o",
         "zoom"
        ],
        [
         "Download",
         "Download plot",
         "floppy-o",
         "save_figure"
        ]
       ]
      }
     },
     "f0352db9ba904dd1a6f7a19a303f1a20": {
      "model_module": "@jupyter-widgets/base",
      "model_module_version": "1.2.0",
      "model_name": "LayoutModel",
      "state": {}
     },
     "f0be361088c44e44a325d61a2db5f104": {
      "model_module": "jupyter-matplotlib",
      "model_module_version": "^0.7.2",
      "model_name": "ToolbarModel",
      "state": {
       "layout": "IPY_MODEL_95f8fb2b61374f8a8aa9ea698f2c0269",
       "toolitems": [
        [
         "Home",
         "Reset original view",
         "home",
         "home"
        ],
        [
         "Back",
         "Back to previous view",
         "arrow-left",
         "back"
        ],
        [
         "Forward",
         "Forward to next view",
         "arrow-right",
         "forward"
        ],
        [
         "Pan",
         "Pan axes with left mouse, zoom with right",
         "arrows",
         "pan"
        ],
        [
         "Zoom",
         "Zoom to rectangle",
         "square-o",
         "zoom"
        ],
        [
         "Download",
         "Download plot",
         "floppy-o",
         "save_figure"
        ]
       ]
      }
     },
     "f1eef93a563543d78190572bd338c390": {
      "model_module": "jupyter-matplotlib",
      "model_module_version": "^0.7.2",
      "model_name": "ToolbarModel",
      "state": {
       "layout": "IPY_MODEL_a43f023faa0a4112a116d60ce767a55a",
       "toolitems": [
        [
         "Home",
         "Reset original view",
         "home",
         "home"
        ],
        [
         "Back",
         "Back to previous view",
         "arrow-left",
         "back"
        ],
        [
         "Forward",
         "Forward to next view",
         "arrow-right",
         "forward"
        ],
        [
         "Pan",
         "Pan axes with left mouse, zoom with right",
         "arrows",
         "pan"
        ],
        [
         "Zoom",
         "Zoom to rectangle",
         "square-o",
         "zoom"
        ],
        [
         "Download",
         "Download plot",
         "floppy-o",
         "save_figure"
        ]
       ]
      }
     },
     "f269edcf417b4b7fa5f8a8c99e64d478": {
      "model_module": "@jupyter-widgets/base",
      "model_module_version": "1.2.0",
      "model_name": "LayoutModel",
      "state": {}
     },
     "f280692ed5734a558bb303f55b6f0646": {
      "model_module": "@jupyter-widgets/base",
      "model_module_version": "1.2.0",
      "model_name": "LayoutModel",
      "state": {}
     },
     "f2ee15a461174a159dc312507a05660a": {
      "model_module": "@jupyter-widgets/base",
      "model_module_version": "1.2.0",
      "model_name": "LayoutModel",
      "state": {}
     },
     "f33544e469d3415bb71d8df69ea33b79": {
      "model_module": "jupyter-matplotlib",
      "model_module_version": "^0.7.2",
      "model_name": "MPLCanvasModel",
      "state": {
       "_cursor": "default",
       "_figure_label": "Figure 2",
       "_height": 480,
       "_image_mode": "diff",
       "_width": 640,
       "layout": "IPY_MODEL_330110e1fc2f4fa1b8691aff8540be4a",
       "toolbar": "IPY_MODEL_70b1f0d243ae4907884438c4e3762117",
       "toolbar_position": "left"
      }
     },
     "f4c32a96f2544ca2b579fa119e0bdf0c": {
      "model_module": "@jupyter-widgets/base",
      "model_module_version": "1.2.0",
      "model_name": "LayoutModel",
      "state": {}
     },
     "f624017d80a449e28b5b9077e91ea2fc": {
      "model_module": "jupyter-matplotlib",
      "model_module_version": "^0.7.2",
      "model_name": "ToolbarModel",
      "state": {
       "layout": "IPY_MODEL_0d4d3c7273984badac9dc01bf09c8a5a",
       "toolitems": [
        [
         "Home",
         "Reset original view",
         "home",
         "home"
        ],
        [
         "Back",
         "Back to previous view",
         "arrow-left",
         "back"
        ],
        [
         "Forward",
         "Forward to next view",
         "arrow-right",
         "forward"
        ],
        [
         "Pan",
         "Pan axes with left mouse, zoom with right",
         "arrows",
         "pan"
        ],
        [
         "Zoom",
         "Zoom to rectangle",
         "square-o",
         "zoom"
        ],
        [
         "Download",
         "Download plot",
         "floppy-o",
         "save_figure"
        ]
       ]
      }
     },
     "f63fd66c939b41bbaf79bc7ff292a776": {
      "model_module": "@jupyter-widgets/base",
      "model_module_version": "1.2.0",
      "model_name": "LayoutModel",
      "state": {}
     },
     "f77fd4b0c6cd40bcae529b276ada4ce8": {
      "model_module": "@jupyter-widgets/base",
      "model_module_version": "1.2.0",
      "model_name": "LayoutModel",
      "state": {}
     },
     "f84f0a15688440399c20015450ff43c1": {
      "model_module": "@jupyter-widgets/base",
      "model_module_version": "1.2.0",
      "model_name": "LayoutModel",
      "state": {}
     },
     "f91efd16caae49039a2143d8559c962c": {
      "model_module": "@jupyter-widgets/base",
      "model_module_version": "1.2.0",
      "model_name": "LayoutModel",
      "state": {}
     },
     "fa800bc8722e486bb51d915c1d8b79bb": {
      "model_module": "jupyter-matplotlib",
      "model_module_version": "^0.7.2",
      "model_name": "ToolbarModel",
      "state": {
       "layout": "IPY_MODEL_af8ecf3190964ac4b0a1692a3f3fc88f",
       "toolitems": [
        [
         "Home",
         "Reset original view",
         "home",
         "home"
        ],
        [
         "Back",
         "Back to previous view",
         "arrow-left",
         "back"
        ],
        [
         "Forward",
         "Forward to next view",
         "arrow-right",
         "forward"
        ],
        [
         "Pan",
         "Pan axes with left mouse, zoom with right",
         "arrows",
         "pan"
        ],
        [
         "Zoom",
         "Zoom to rectangle",
         "square-o",
         "zoom"
        ],
        [
         "Download",
         "Download plot",
         "floppy-o",
         "save_figure"
        ]
       ]
      }
     },
     "faad8c74f88943a1aad0c15beebf804a": {
      "model_module": "@jupyter-widgets/base",
      "model_module_version": "1.2.0",
      "model_name": "LayoutModel",
      "state": {}
     },
     "fbfb9ee9584a49139b23513f584c608b": {
      "model_module": "jupyter-matplotlib",
      "model_module_version": "^0.7.2",
      "model_name": "MPLCanvasModel",
      "state": {
       "_cursor": "default",
       "_figure_label": "Figure 40",
       "_height": 480,
       "_image_mode": "diff",
       "_width": 640,
       "layout": "IPY_MODEL_43108d2accd34d7e89a6bf2c33c8ee1c",
       "toolbar": "IPY_MODEL_4d6eb676ec2241d097e60428bff1fbc8",
       "toolbar_position": "left"
      }
     },
     "fcddf85454a1426f80cf8db9bd8385d2": {
      "model_module": "@jupyter-widgets/base",
      "model_module_version": "1.2.0",
      "model_name": "LayoutModel",
      "state": {}
     },
     "fd297609e3a446d7bdb358f52d6e6a1a": {
      "model_module": "jupyter-matplotlib",
      "model_module_version": "^0.7.2",
      "model_name": "ToolbarModel",
      "state": {
       "layout": "IPY_MODEL_8cb06592e2eb4c059073a2d6b41453c0",
       "toolitems": [
        [
         "Home",
         "Reset original view",
         "home",
         "home"
        ],
        [
         "Back",
         "Back to previous view",
         "arrow-left",
         "back"
        ],
        [
         "Forward",
         "Forward to next view",
         "arrow-right",
         "forward"
        ],
        [
         "Pan",
         "Pan axes with left mouse, zoom with right",
         "arrows",
         "pan"
        ],
        [
         "Zoom",
         "Zoom to rectangle",
         "square-o",
         "zoom"
        ],
        [
         "Download",
         "Download plot",
         "floppy-o",
         "save_figure"
        ]
       ]
      }
     },
     "fd53db7256004ce89776687a62c16fcc": {
      "model_module": "@jupyter-widgets/base",
      "model_module_version": "1.2.0",
      "model_name": "LayoutModel",
      "state": {}
     },
     "fffacfe10b2d4cfb906278c7fa9d1c97": {
      "model_module": "jupyter-matplotlib",
      "model_module_version": "^0.7.2",
      "model_name": "MPLCanvasModel",
      "state": {
       "_cursor": "default",
       "_figure_label": "Figure 48",
       "_height": 480,
       "_image_mode": "diff",
       "_message": "x=4125.51      y=910.248     ",
       "_width": 640,
       "layout": "IPY_MODEL_7dcd497cc9664ce0bdd2d883c9b24c45",
       "toolbar": "IPY_MODEL_efa86273f9314b62a588f314dbb58c01",
       "toolbar_position": "left"
      }
     }
    },
    "version_major": 2,
    "version_minor": 0
   }
  }
 },
 "nbformat": 4,
 "nbformat_minor": 4
}
